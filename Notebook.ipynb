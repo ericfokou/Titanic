{
 "cells": [
  {
   "cell_type": "code",
   "execution_count": 3,
   "metadata": {},
   "outputs": [],
   "source": [
    "import numpy as np\n",
    "\n",
    "import pandas as pd\n",
    "pd.set_option('display.max_rows', 500)\n",
    "pd.set_option('display.max_columns', 500)\n",
    "from pandas.plotting import scatter_matrix\n",
    "\n",
    "import matplotlib.pylab as plt\n",
    "from matplotlib.pylab import rcParams\n",
    "from matplotlib import pyplot\n",
    "rcParams['figure.figsize'] = 15, 6\n",
    "\n",
    "random_state = 16\n",
    "\n",
    "import warnings\n",
    "warnings.filterwarnings(\"ignore\")\n",
    "\n",
    "from sklearn.model_selection import train_test_split\n",
    "from sklearn.metrics import accuracy_score\n",
    "\n",
    "from sklearn.linear_model import LogisticRegression\n",
    "from sklearn.svm import SVC\n",
    "from sklearn.ensemble import RandomForestClassifier\n",
    "from sklearn.ensemble import GradientBoostingClassifier\n",
    "from sklearn.tree import DecisionTreeClassifier\n",
    "from sklearn.neighbors import KNeighborsClassifier\n",
    "from sklearn.neural_network import MLPClassifier\n",
    "\n",
    "from sklearn.model_selection import StratifiedKFold\n",
    "from sklearn.model_selection import cross_val_score\n",
    "\n",
    "from sklearn.pipeline import Pipeline, FeatureUnion\n",
    "\n",
    "from sklearn.preprocessing import StandardScaler\n",
    "from sklearn.preprocessing import MinMaxScaler\n",
    "from sklearn.preprocessing import RobustScaler\n",
    "from sklearn.preprocessing import MaxAbsScaler\n",
    "from sklearn.preprocessing import Normalizer\n",
    "from sklearn.neighbors import KNeighborsClassifier\n",
    "\n",
    "from sklearn.model_selection  import GridSearchCV\n",
    "from sklearn.model_selection  import RandomizedSearchCV\n",
    "\n",
    "from sklearn.ensemble import VotingClassifier"
   ]
  },
  {
   "cell_type": "code",
   "execution_count": 4,
   "metadata": {},
   "outputs": [],
   "source": [
    "%matplotlib inline\n",
    "\n",
    "%load_ext autoreload\n",
    "%autoreload 2"
   ]
  },
  {
   "cell_type": "markdown",
   "metadata": {},
   "source": [
    "# Dataset: Titanic- https://www.kaggle.com/c/titanic/data\n",
    "\n",
    "Nous avons décidé d'utiliser le dataset Titanic pour ce projtet. Une descrition du dataset est la suivante:"
   ]
  },
  {
   "cell_type": "markdown",
   "metadata": {},
   "source": [
    "Overview\n",
    "The data has been split into two groups:\n",
    "\n",
    "training set (train.csv)\n",
    "test set (test.csv)\n",
    "\n",
    "The training set should be used to build your machine learning models. For the training set, we provide the outcome (also known as the “ground truth”) for each passenger. Your model will be based on “features” like passengers’ gender and class. You can also use feature engineering to create new features.\n",
    "\n",
    "The test set should be used to see how well your model performs on unseen data. For the test set, we do not provide the ground truth for each passenger. It is your job to predict these outcomes. For each passenger in the test set, use the model you trained to predict whether or not they survived the sinking of the Titanic."
   ]
  },
  {
   "cell_type": "markdown",
   "metadata": {},
   "source": [
    "#### Description des variables\n",
    "\n",
    "<table>\n",
    "    <thead>\n",
    "        <tr>\n",
    "            <th>Variable</th>\n",
    "            <th align=\"center\">Definition</th>\n",
    "            <th align=\"right\">key</th>\n",
    "        </tr>\n",
    "    </thead>\n",
    "    <tbody>\n",
    "        <tr>\n",
    "            <td>survival</td>\n",
    "            <td align=\"center\">survival</td>\n",
    "            <td align=\"right\">0 = No, 1 = Yes</td>\n",
    "        </tr>\n",
    "        <tr>\n",
    "            <td>pclass</td>\n",
    "            <td align=\"center\">Ticket class</td>\n",
    "            <td align=\"right\">1 = 1st, 2 = 2nd, 3 = 3rd</td>\n",
    "        </tr>\n",
    "        <tr>\n",
    "            <td>sex</td>\n",
    "            <td align=\"center\">sex</td>\n",
    "            <td align=\"right\"> </td>\n",
    "        </tr>\n",
    "        <tr>\n",
    "            <td>Age</td>\n",
    "            <td align=\"center\">Age</td>\n",
    "            <td align=\"right\">in years</td>\n",
    "        </tr>\n",
    "        <tr>\n",
    "            <td>sibsp</td>\n",
    "            <td align=\"center\"># of siblings / spouses aboard the Titanic</td>\n",
    "            <td align=\"right\"> </td>\n",
    "        </tr>\n",
    "        <tr>\n",
    "            <td>parch</td>\n",
    "            <td align=\"center\"># of parents / children aboard the Titanic</td>\n",
    "            <td align=\"right\"> </td>\n",
    "        </tr>\n",
    "        <tr>\n",
    "            <td>ticket</td>\n",
    "            <td align=\"center\">Ticket number</td>\n",
    "            <td align=\"right\"> </td>\n",
    "        </tr>\n",
    "        <tr>\n",
    "            <td>fare</td>\n",
    "            <td align=\"center\">Passenger fare</td>\n",
    "            <td align=\"right\"> </td>\n",
    "        </tr>\n",
    "        <tr>\n",
    "            <td>cabin</td>\n",
    "            <td align=\"center\">Cabin number</td>\n",
    "            <td align=\"right\"> </td>\n",
    "        </tr>\n",
    "        <tr>\n",
    "            <td>embarked</td>\n",
    "            <td align=\"center\">Port of Embarkation</td>\n",
    "            <td align=\"right\"> </td>\n",
    "        </tr>\n",
    "    </tbody>\n",
    "</table>"
   ]
  },
  {
   "cell_type": "markdown",
   "metadata": {},
   "source": [
    "## 1. Analysis of the dataset \n",
    "\n",
    "In order to analyse the dataset, you have to:\n",
    "\n",
    "- extract some statistical information from the given dataset, for example: the type of data, the missing values, outliers, the correlation between variables, etc. \n",
    "\n",
    "- This part should contain also the analysis of the domain application and explain the goal of the prediction."
   ]
  },
  {
   "cell_type": "code",
   "execution_count": 5,
   "metadata": {},
   "outputs": [
    {
     "name": "stdout",
     "output_type": "stream",
     "text": [
      "Train shape: (891, 12) Test shape: (418, 11)\n"
     ]
    }
   ],
   "source": [
    "# load data\n",
    "\n",
    "train_file = \"data/train.csv\"\n",
    "test_file = \"data/test.csv\"\n",
    "\n",
    "raw_train = pd.read_csv(train_file, sep=\",\")\n",
    "raw_test = pd.read_csv(test_file, sep=\",\")\n",
    "\n",
    "print('Train shape: %s Test shape: %s'%(raw_train.shape, raw_test.shape))"
   ]
  },
  {
   "cell_type": "code",
   "execution_count": 6,
   "metadata": {},
   "outputs": [
    {
     "data": {
      "text/html": [
       "<div>\n",
       "<style scoped>\n",
       "    .dataframe tbody tr th:only-of-type {\n",
       "        vertical-align: middle;\n",
       "    }\n",
       "\n",
       "    .dataframe tbody tr th {\n",
       "        vertical-align: top;\n",
       "    }\n",
       "\n",
       "    .dataframe thead th {\n",
       "        text-align: right;\n",
       "    }\n",
       "</style>\n",
       "<table border=\"1\" class=\"dataframe\">\n",
       "  <thead>\n",
       "    <tr style=\"text-align: right;\">\n",
       "      <th></th>\n",
       "      <th>PassengerId</th>\n",
       "      <th>Survived</th>\n",
       "      <th>Pclass</th>\n",
       "      <th>Name</th>\n",
       "      <th>Sex</th>\n",
       "      <th>Age</th>\n",
       "      <th>SibSp</th>\n",
       "      <th>Parch</th>\n",
       "      <th>Ticket</th>\n",
       "      <th>Fare</th>\n",
       "      <th>Cabin</th>\n",
       "      <th>Embarked</th>\n",
       "    </tr>\n",
       "  </thead>\n",
       "  <tbody>\n",
       "    <tr>\n",
       "      <th>277</th>\n",
       "      <td>278</td>\n",
       "      <td>0</td>\n",
       "      <td>2</td>\n",
       "      <td>Parkes, Mr. Francis \"Frank\"</td>\n",
       "      <td>male</td>\n",
       "      <td>NaN</td>\n",
       "      <td>0</td>\n",
       "      <td>0</td>\n",
       "      <td>239853</td>\n",
       "      <td>0.000</td>\n",
       "      <td>NaN</td>\n",
       "      <td>S</td>\n",
       "    </tr>\n",
       "    <tr>\n",
       "      <th>333</th>\n",
       "      <td>334</td>\n",
       "      <td>0</td>\n",
       "      <td>3</td>\n",
       "      <td>Vander Planke, Mr. Leo Edmondus</td>\n",
       "      <td>male</td>\n",
       "      <td>16.0</td>\n",
       "      <td>2</td>\n",
       "      <td>0</td>\n",
       "      <td>345764</td>\n",
       "      <td>18.000</td>\n",
       "      <td>NaN</td>\n",
       "      <td>S</td>\n",
       "    </tr>\n",
       "    <tr>\n",
       "      <th>518</th>\n",
       "      <td>519</td>\n",
       "      <td>1</td>\n",
       "      <td>2</td>\n",
       "      <td>Angle, Mrs. William A (Florence \"Mary\" Agnes H...</td>\n",
       "      <td>female</td>\n",
       "      <td>36.0</td>\n",
       "      <td>1</td>\n",
       "      <td>0</td>\n",
       "      <td>226875</td>\n",
       "      <td>26.000</td>\n",
       "      <td>NaN</td>\n",
       "      <td>S</td>\n",
       "    </tr>\n",
       "    <tr>\n",
       "      <th>385</th>\n",
       "      <td>386</td>\n",
       "      <td>0</td>\n",
       "      <td>2</td>\n",
       "      <td>Davies, Mr. Charles Henry</td>\n",
       "      <td>male</td>\n",
       "      <td>18.0</td>\n",
       "      <td>0</td>\n",
       "      <td>0</td>\n",
       "      <td>S.O.C. 14879</td>\n",
       "      <td>73.500</td>\n",
       "      <td>NaN</td>\n",
       "      <td>S</td>\n",
       "    </tr>\n",
       "    <tr>\n",
       "      <th>119</th>\n",
       "      <td>120</td>\n",
       "      <td>0</td>\n",
       "      <td>3</td>\n",
       "      <td>Andersson, Miss. Ellis Anna Maria</td>\n",
       "      <td>female</td>\n",
       "      <td>2.0</td>\n",
       "      <td>4</td>\n",
       "      <td>2</td>\n",
       "      <td>347082</td>\n",
       "      <td>31.275</td>\n",
       "      <td>NaN</td>\n",
       "      <td>S</td>\n",
       "    </tr>\n",
       "  </tbody>\n",
       "</table>\n",
       "</div>"
      ],
      "text/plain": [
       "     PassengerId  Survived  Pclass  \\\n",
       "277          278         0       2   \n",
       "333          334         0       3   \n",
       "518          519         1       2   \n",
       "385          386         0       2   \n",
       "119          120         0       3   \n",
       "\n",
       "                                                  Name     Sex   Age  SibSp  \\\n",
       "277                        Parkes, Mr. Francis \"Frank\"    male   NaN      0   \n",
       "333                    Vander Planke, Mr. Leo Edmondus    male  16.0      2   \n",
       "518  Angle, Mrs. William A (Florence \"Mary\" Agnes H...  female  36.0      1   \n",
       "385                          Davies, Mr. Charles Henry    male  18.0      0   \n",
       "119                  Andersson, Miss. Ellis Anna Maria  female   2.0      4   \n",
       "\n",
       "     Parch        Ticket    Fare Cabin Embarked  \n",
       "277      0        239853   0.000   NaN        S  \n",
       "333      0        345764  18.000   NaN        S  \n",
       "518      0        226875  26.000   NaN        S  \n",
       "385      0  S.O.C. 14879  73.500   NaN        S  \n",
       "119      2        347082  31.275   NaN        S  "
      ]
     },
     "execution_count": 6,
     "metadata": {},
     "output_type": "execute_result"
    }
   ],
   "source": [
    "raw_train.sample(5)"
   ]
  },
  {
   "cell_type": "code",
   "execution_count": 7,
   "metadata": {},
   "outputs": [
    {
     "data": {
      "text/html": [
       "<div>\n",
       "<style scoped>\n",
       "    .dataframe tbody tr th:only-of-type {\n",
       "        vertical-align: middle;\n",
       "    }\n",
       "\n",
       "    .dataframe tbody tr th {\n",
       "        vertical-align: top;\n",
       "    }\n",
       "\n",
       "    .dataframe thead th {\n",
       "        text-align: right;\n",
       "    }\n",
       "</style>\n",
       "<table border=\"1\" class=\"dataframe\">\n",
       "  <thead>\n",
       "    <tr style=\"text-align: right;\">\n",
       "      <th></th>\n",
       "      <th>PassengerId</th>\n",
       "      <th>Pclass</th>\n",
       "      <th>Name</th>\n",
       "      <th>Sex</th>\n",
       "      <th>Age</th>\n",
       "      <th>SibSp</th>\n",
       "      <th>Parch</th>\n",
       "      <th>Ticket</th>\n",
       "      <th>Fare</th>\n",
       "      <th>Cabin</th>\n",
       "      <th>Embarked</th>\n",
       "    </tr>\n",
       "  </thead>\n",
       "  <tbody>\n",
       "    <tr>\n",
       "      <th>53</th>\n",
       "      <td>945</td>\n",
       "      <td>1</td>\n",
       "      <td>Fortune, Miss. Ethel Flora</td>\n",
       "      <td>female</td>\n",
       "      <td>28.0</td>\n",
       "      <td>3</td>\n",
       "      <td>2</td>\n",
       "      <td>19950</td>\n",
       "      <td>263.000</td>\n",
       "      <td>C23 C25 C27</td>\n",
       "      <td>S</td>\n",
       "    </tr>\n",
       "    <tr>\n",
       "      <th>222</th>\n",
       "      <td>1114</td>\n",
       "      <td>2</td>\n",
       "      <td>Cook, Mrs. (Selena Rogers)</td>\n",
       "      <td>female</td>\n",
       "      <td>22.0</td>\n",
       "      <td>0</td>\n",
       "      <td>0</td>\n",
       "      <td>W./C. 14266</td>\n",
       "      <td>10.500</td>\n",
       "      <td>F33</td>\n",
       "      <td>S</td>\n",
       "    </tr>\n",
       "    <tr>\n",
       "      <th>212</th>\n",
       "      <td>1104</td>\n",
       "      <td>2</td>\n",
       "      <td>Deacon, Mr. Percy William</td>\n",
       "      <td>male</td>\n",
       "      <td>17.0</td>\n",
       "      <td>0</td>\n",
       "      <td>0</td>\n",
       "      <td>S.O.C. 14879</td>\n",
       "      <td>73.500</td>\n",
       "      <td>NaN</td>\n",
       "      <td>S</td>\n",
       "    </tr>\n",
       "    <tr>\n",
       "      <th>402</th>\n",
       "      <td>1294</td>\n",
       "      <td>1</td>\n",
       "      <td>Gibson, Miss. Dorothy Winifred</td>\n",
       "      <td>female</td>\n",
       "      <td>22.0</td>\n",
       "      <td>0</td>\n",
       "      <td>1</td>\n",
       "      <td>112378</td>\n",
       "      <td>59.400</td>\n",
       "      <td>NaN</td>\n",
       "      <td>C</td>\n",
       "    </tr>\n",
       "    <tr>\n",
       "      <th>197</th>\n",
       "      <td>1089</td>\n",
       "      <td>3</td>\n",
       "      <td>Nilsson, Miss. Berta Olivia</td>\n",
       "      <td>female</td>\n",
       "      <td>18.0</td>\n",
       "      <td>0</td>\n",
       "      <td>0</td>\n",
       "      <td>347066</td>\n",
       "      <td>7.775</td>\n",
       "      <td>NaN</td>\n",
       "      <td>S</td>\n",
       "    </tr>\n",
       "  </tbody>\n",
       "</table>\n",
       "</div>"
      ],
      "text/plain": [
       "     PassengerId  Pclass                            Name     Sex   Age  SibSp  \\\n",
       "53           945       1      Fortune, Miss. Ethel Flora  female  28.0      3   \n",
       "222         1114       2      Cook, Mrs. (Selena Rogers)  female  22.0      0   \n",
       "212         1104       2       Deacon, Mr. Percy William    male  17.0      0   \n",
       "402         1294       1  Gibson, Miss. Dorothy Winifred  female  22.0      0   \n",
       "197         1089       3     Nilsson, Miss. Berta Olivia  female  18.0      0   \n",
       "\n",
       "     Parch        Ticket     Fare        Cabin Embarked  \n",
       "53       2         19950  263.000  C23 C25 C27        S  \n",
       "222      0   W./C. 14266   10.500          F33        S  \n",
       "212      0  S.O.C. 14879   73.500          NaN        S  \n",
       "402      1        112378   59.400          NaN        C  \n",
       "197      0        347066    7.775          NaN        S  "
      ]
     },
     "execution_count": 7,
     "metadata": {},
     "output_type": "execute_result"
    }
   ],
   "source": [
    "raw_test.sample(5)"
   ]
  },
  {
   "cell_type": "code",
   "execution_count": 8,
   "metadata": {},
   "outputs": [
    {
     "data": {
      "text/plain": [
       "array([0, 1], dtype=int64)"
      ]
     },
     "execution_count": 8,
     "metadata": {},
     "output_type": "execute_result"
    }
   ],
   "source": [
    "# Observons la variable target\n",
    "raw_train.Survived.unique()"
   ]
  },
  {
   "cell_type": "markdown",
   "metadata": {},
   "source": [
    "Nous sommes face à un problème de classification dont le but est de créer un modèle qui prédit si un passager a survécu au naufrage du Titanic\n",
    "\n",
    "0 = No, 1 = Yes"
   ]
  },
  {
   "cell_type": "code",
   "execution_count": 9,
   "metadata": {},
   "outputs": [
    {
     "data": {
      "text/plain": [
       "{1, 2}"
      ]
     },
     "execution_count": 9,
     "metadata": {},
     "output_type": "execute_result"
    }
   ],
   "source": [
    "set([1,2,1])"
   ]
  },
  {
   "cell_type": "code",
   "execution_count": 10,
   "metadata": {},
   "outputs": [
    {
     "data": {
      "text/html": [
       "<div>\n",
       "<style scoped>\n",
       "    .dataframe tbody tr th:only-of-type {\n",
       "        vertical-align: middle;\n",
       "    }\n",
       "\n",
       "    .dataframe tbody tr th {\n",
       "        vertical-align: top;\n",
       "    }\n",
       "\n",
       "    .dataframe thead th {\n",
       "        text-align: right;\n",
       "    }\n",
       "</style>\n",
       "<table border=\"1\" class=\"dataframe\">\n",
       "  <thead>\n",
       "    <tr style=\"text-align: right;\">\n",
       "      <th></th>\n",
       "      <th>Fare</th>\n",
       "      <th>Survived</th>\n",
       "      <th>Embarked</th>\n",
       "      <th>Age</th>\n",
       "      <th>SibSp</th>\n",
       "      <th>Parch</th>\n",
       "      <th>Sex</th>\n",
       "      <th>Pclass</th>\n",
       "    </tr>\n",
       "  </thead>\n",
       "  <tbody>\n",
       "    <tr>\n",
       "      <th>133</th>\n",
       "      <td>26.0000</td>\n",
       "      <td>1</td>\n",
       "      <td>S</td>\n",
       "      <td>29.0</td>\n",
       "      <td>1</td>\n",
       "      <td>0</td>\n",
       "      <td>female</td>\n",
       "      <td>2</td>\n",
       "    </tr>\n",
       "    <tr>\n",
       "      <th>624</th>\n",
       "      <td>16.1000</td>\n",
       "      <td>0</td>\n",
       "      <td>S</td>\n",
       "      <td>21.0</td>\n",
       "      <td>0</td>\n",
       "      <td>0</td>\n",
       "      <td>male</td>\n",
       "      <td>3</td>\n",
       "    </tr>\n",
       "    <tr>\n",
       "      <th>307</th>\n",
       "      <td>108.9000</td>\n",
       "      <td>1</td>\n",
       "      <td>C</td>\n",
       "      <td>17.0</td>\n",
       "      <td>1</td>\n",
       "      <td>0</td>\n",
       "      <td>female</td>\n",
       "      <td>1</td>\n",
       "    </tr>\n",
       "    <tr>\n",
       "      <th>28</th>\n",
       "      <td>7.8792</td>\n",
       "      <td>1</td>\n",
       "      <td>Q</td>\n",
       "      <td>NaN</td>\n",
       "      <td>0</td>\n",
       "      <td>0</td>\n",
       "      <td>female</td>\n",
       "      <td>3</td>\n",
       "    </tr>\n",
       "    <tr>\n",
       "      <th>543</th>\n",
       "      <td>26.0000</td>\n",
       "      <td>1</td>\n",
       "      <td>S</td>\n",
       "      <td>32.0</td>\n",
       "      <td>1</td>\n",
       "      <td>0</td>\n",
       "      <td>male</td>\n",
       "      <td>2</td>\n",
       "    </tr>\n",
       "    <tr>\n",
       "      <th>264</th>\n",
       "      <td>7.7500</td>\n",
       "      <td>0</td>\n",
       "      <td>Q</td>\n",
       "      <td>NaN</td>\n",
       "      <td>0</td>\n",
       "      <td>0</td>\n",
       "      <td>female</td>\n",
       "      <td>3</td>\n",
       "    </tr>\n",
       "    <tr>\n",
       "      <th>582</th>\n",
       "      <td>26.0000</td>\n",
       "      <td>0</td>\n",
       "      <td>S</td>\n",
       "      <td>54.0</td>\n",
       "      <td>0</td>\n",
       "      <td>0</td>\n",
       "      <td>male</td>\n",
       "      <td>2</td>\n",
       "    </tr>\n",
       "    <tr>\n",
       "      <th>562</th>\n",
       "      <td>13.5000</td>\n",
       "      <td>0</td>\n",
       "      <td>S</td>\n",
       "      <td>28.0</td>\n",
       "      <td>0</td>\n",
       "      <td>0</td>\n",
       "      <td>male</td>\n",
       "      <td>2</td>\n",
       "    </tr>\n",
       "    <tr>\n",
       "      <th>688</th>\n",
       "      <td>7.7958</td>\n",
       "      <td>0</td>\n",
       "      <td>S</td>\n",
       "      <td>18.0</td>\n",
       "      <td>0</td>\n",
       "      <td>0</td>\n",
       "      <td>male</td>\n",
       "      <td>3</td>\n",
       "    </tr>\n",
       "    <tr>\n",
       "      <th>824</th>\n",
       "      <td>39.6875</td>\n",
       "      <td>0</td>\n",
       "      <td>S</td>\n",
       "      <td>2.0</td>\n",
       "      <td>4</td>\n",
       "      <td>1</td>\n",
       "      <td>male</td>\n",
       "      <td>3</td>\n",
       "    </tr>\n",
       "  </tbody>\n",
       "</table>\n",
       "</div>"
      ],
      "text/plain": [
       "         Fare  Survived Embarked   Age  SibSp  Parch     Sex  Pclass\n",
       "133   26.0000         1        S  29.0      1      0  female       2\n",
       "624   16.1000         0        S  21.0      0      0    male       3\n",
       "307  108.9000         1        C  17.0      1      0  female       1\n",
       "28     7.8792         1        Q   NaN      0      0  female       3\n",
       "543   26.0000         1        S  32.0      1      0    male       2\n",
       "264    7.7500         0        Q   NaN      0      0  female       3\n",
       "582   26.0000         0        S  54.0      0      0    male       2\n",
       "562   13.5000         0        S  28.0      0      0    male       2\n",
       "688    7.7958         0        S  18.0      0      0    male       3\n",
       "824   39.6875         0        S   2.0      4      1    male       3"
      ]
     },
     "execution_count": 10,
     "metadata": {},
     "output_type": "execute_result"
    }
   ],
   "source": [
    "# Certaines varibales peuvent etre mise à l'écart dans un premier temps car n'ayant pas un pouvoir prédictif direct. \n",
    "# Celles-ci sont: **PassengerId**, **Name**, **Ticket**, **Cabin**\n",
    "\n",
    "columns = list(set(raw_train.columns).difference(set([\"PassengerId\", \"Name\", \"Ticket\", \"Cabin\"])))\n",
    "columns_test = columns.copy()\n",
    "columns_test.remove(\"Survived\")\n",
    "\n",
    "data_train = raw_train[columns]\n",
    "data_test = raw_test[columns_test]\n",
    "\n",
    "data_train.sample(10)"
   ]
  },
  {
   "cell_type": "markdown",
   "metadata": {},
   "source": [
    "#### type des données"
   ]
  },
  {
   "cell_type": "code",
   "execution_count": 11,
   "metadata": {},
   "outputs": [
    {
     "data": {
      "text/html": [
       "<div>\n",
       "<style scoped>\n",
       "    .dataframe tbody tr th:only-of-type {\n",
       "        vertical-align: middle;\n",
       "    }\n",
       "\n",
       "    .dataframe tbody tr th {\n",
       "        vertical-align: top;\n",
       "    }\n",
       "\n",
       "    .dataframe thead th {\n",
       "        text-align: right;\n",
       "    }\n",
       "</style>\n",
       "<table border=\"1\" class=\"dataframe\">\n",
       "  <thead>\n",
       "    <tr style=\"text-align: right;\">\n",
       "      <th></th>\n",
       "      <th>type</th>\n",
       "    </tr>\n",
       "  </thead>\n",
       "  <tbody>\n",
       "    <tr>\n",
       "      <th>Fare</th>\n",
       "      <td>float64</td>\n",
       "    </tr>\n",
       "    <tr>\n",
       "      <th>Survived</th>\n",
       "      <td>int64</td>\n",
       "    </tr>\n",
       "    <tr>\n",
       "      <th>Embarked</th>\n",
       "      <td>object</td>\n",
       "    </tr>\n",
       "    <tr>\n",
       "      <th>Age</th>\n",
       "      <td>float64</td>\n",
       "    </tr>\n",
       "    <tr>\n",
       "      <th>SibSp</th>\n",
       "      <td>int64</td>\n",
       "    </tr>\n",
       "    <tr>\n",
       "      <th>Parch</th>\n",
       "      <td>int64</td>\n",
       "    </tr>\n",
       "    <tr>\n",
       "      <th>Sex</th>\n",
       "      <td>object</td>\n",
       "    </tr>\n",
       "    <tr>\n",
       "      <th>Pclass</th>\n",
       "      <td>int64</td>\n",
       "    </tr>\n",
       "  </tbody>\n",
       "</table>\n",
       "</div>"
      ],
      "text/plain": [
       "             type\n",
       "Fare      float64\n",
       "Survived    int64\n",
       "Embarked   object\n",
       "Age       float64\n",
       "SibSp       int64\n",
       "Parch       int64\n",
       "Sex        object\n",
       "Pclass      int64"
      ]
     },
     "execution_count": 11,
     "metadata": {},
     "output_type": "execute_result"
    }
   ],
   "source": [
    "pd.DataFrame({'type': data_train.dtypes})"
   ]
  },
  {
   "cell_type": "code",
   "execution_count": 12,
   "metadata": {},
   "outputs": [
    {
     "data": {
      "text/html": [
       "<div>\n",
       "<style scoped>\n",
       "    .dataframe tbody tr th:only-of-type {\n",
       "        vertical-align: middle;\n",
       "    }\n",
       "\n",
       "    .dataframe tbody tr th {\n",
       "        vertical-align: top;\n",
       "    }\n",
       "\n",
       "    .dataframe thead th {\n",
       "        text-align: right;\n",
       "    }\n",
       "</style>\n",
       "<table border=\"1\" class=\"dataframe\">\n",
       "  <thead>\n",
       "    <tr style=\"text-align: right;\">\n",
       "      <th></th>\n",
       "      <th>type</th>\n",
       "    </tr>\n",
       "  </thead>\n",
       "  <tbody>\n",
       "    <tr>\n",
       "      <th>Fare</th>\n",
       "      <td>float64</td>\n",
       "    </tr>\n",
       "    <tr>\n",
       "      <th>Embarked</th>\n",
       "      <td>object</td>\n",
       "    </tr>\n",
       "    <tr>\n",
       "      <th>Age</th>\n",
       "      <td>float64</td>\n",
       "    </tr>\n",
       "    <tr>\n",
       "      <th>SibSp</th>\n",
       "      <td>int64</td>\n",
       "    </tr>\n",
       "    <tr>\n",
       "      <th>Parch</th>\n",
       "      <td>int64</td>\n",
       "    </tr>\n",
       "    <tr>\n",
       "      <th>Sex</th>\n",
       "      <td>object</td>\n",
       "    </tr>\n",
       "    <tr>\n",
       "      <th>Pclass</th>\n",
       "      <td>int64</td>\n",
       "    </tr>\n",
       "  </tbody>\n",
       "</table>\n",
       "</div>"
      ],
      "text/plain": [
       "             type\n",
       "Fare      float64\n",
       "Embarked   object\n",
       "Age       float64\n",
       "SibSp       int64\n",
       "Parch       int64\n",
       "Sex        object\n",
       "Pclass      int64"
      ]
     },
     "execution_count": 12,
     "metadata": {},
     "output_type": "execute_result"
    }
   ],
   "source": [
    "pd.DataFrame({'type': data_test.dtypes})"
   ]
  },
  {
   "cell_type": "markdown",
   "metadata": {},
   "source": [
    "#### description des données"
   ]
  },
  {
   "cell_type": "code",
   "execution_count": 13,
   "metadata": {},
   "outputs": [
    {
     "data": {
      "text/html": [
       "<div>\n",
       "<style scoped>\n",
       "    .dataframe tbody tr th:only-of-type {\n",
       "        vertical-align: middle;\n",
       "    }\n",
       "\n",
       "    .dataframe tbody tr th {\n",
       "        vertical-align: top;\n",
       "    }\n",
       "\n",
       "    .dataframe thead th {\n",
       "        text-align: right;\n",
       "    }\n",
       "</style>\n",
       "<table border=\"1\" class=\"dataframe\">\n",
       "  <thead>\n",
       "    <tr style=\"text-align: right;\">\n",
       "      <th></th>\n",
       "      <th>Fare</th>\n",
       "      <th>Survived</th>\n",
       "      <th>Age</th>\n",
       "      <th>SibSp</th>\n",
       "      <th>Parch</th>\n",
       "      <th>Pclass</th>\n",
       "    </tr>\n",
       "  </thead>\n",
       "  <tbody>\n",
       "    <tr>\n",
       "      <th>count</th>\n",
       "      <td>891.000000</td>\n",
       "      <td>891.000000</td>\n",
       "      <td>714.000000</td>\n",
       "      <td>891.000000</td>\n",
       "      <td>891.000000</td>\n",
       "      <td>891.000000</td>\n",
       "    </tr>\n",
       "    <tr>\n",
       "      <th>mean</th>\n",
       "      <td>32.204208</td>\n",
       "      <td>0.383838</td>\n",
       "      <td>29.699118</td>\n",
       "      <td>0.523008</td>\n",
       "      <td>0.381594</td>\n",
       "      <td>2.308642</td>\n",
       "    </tr>\n",
       "    <tr>\n",
       "      <th>std</th>\n",
       "      <td>49.693429</td>\n",
       "      <td>0.486592</td>\n",
       "      <td>14.526497</td>\n",
       "      <td>1.102743</td>\n",
       "      <td>0.806057</td>\n",
       "      <td>0.836071</td>\n",
       "    </tr>\n",
       "    <tr>\n",
       "      <th>min</th>\n",
       "      <td>0.000000</td>\n",
       "      <td>0.000000</td>\n",
       "      <td>0.420000</td>\n",
       "      <td>0.000000</td>\n",
       "      <td>0.000000</td>\n",
       "      <td>1.000000</td>\n",
       "    </tr>\n",
       "    <tr>\n",
       "      <th>25%</th>\n",
       "      <td>7.910400</td>\n",
       "      <td>0.000000</td>\n",
       "      <td>20.125000</td>\n",
       "      <td>0.000000</td>\n",
       "      <td>0.000000</td>\n",
       "      <td>2.000000</td>\n",
       "    </tr>\n",
       "    <tr>\n",
       "      <th>50%</th>\n",
       "      <td>14.454200</td>\n",
       "      <td>0.000000</td>\n",
       "      <td>28.000000</td>\n",
       "      <td>0.000000</td>\n",
       "      <td>0.000000</td>\n",
       "      <td>3.000000</td>\n",
       "    </tr>\n",
       "    <tr>\n",
       "      <th>75%</th>\n",
       "      <td>31.000000</td>\n",
       "      <td>1.000000</td>\n",
       "      <td>38.000000</td>\n",
       "      <td>1.000000</td>\n",
       "      <td>0.000000</td>\n",
       "      <td>3.000000</td>\n",
       "    </tr>\n",
       "    <tr>\n",
       "      <th>max</th>\n",
       "      <td>512.329200</td>\n",
       "      <td>1.000000</td>\n",
       "      <td>80.000000</td>\n",
       "      <td>8.000000</td>\n",
       "      <td>6.000000</td>\n",
       "      <td>3.000000</td>\n",
       "    </tr>\n",
       "  </tbody>\n",
       "</table>\n",
       "</div>"
      ],
      "text/plain": [
       "             Fare    Survived         Age       SibSp       Parch      Pclass\n",
       "count  891.000000  891.000000  714.000000  891.000000  891.000000  891.000000\n",
       "mean    32.204208    0.383838   29.699118    0.523008    0.381594    2.308642\n",
       "std     49.693429    0.486592   14.526497    1.102743    0.806057    0.836071\n",
       "min      0.000000    0.000000    0.420000    0.000000    0.000000    1.000000\n",
       "25%      7.910400    0.000000   20.125000    0.000000    0.000000    2.000000\n",
       "50%     14.454200    0.000000   28.000000    0.000000    0.000000    3.000000\n",
       "75%     31.000000    1.000000   38.000000    1.000000    0.000000    3.000000\n",
       "max    512.329200    1.000000   80.000000    8.000000    6.000000    3.000000"
      ]
     },
     "execution_count": 13,
     "metadata": {},
     "output_type": "execute_result"
    }
   ],
   "source": [
    "data_train.describe()"
   ]
  },
  {
   "cell_type": "code",
   "execution_count": 14,
   "metadata": {},
   "outputs": [
    {
     "data": {
      "text/html": [
       "<div>\n",
       "<style scoped>\n",
       "    .dataframe tbody tr th:only-of-type {\n",
       "        vertical-align: middle;\n",
       "    }\n",
       "\n",
       "    .dataframe tbody tr th {\n",
       "        vertical-align: top;\n",
       "    }\n",
       "\n",
       "    .dataframe thead th {\n",
       "        text-align: right;\n",
       "    }\n",
       "</style>\n",
       "<table border=\"1\" class=\"dataframe\">\n",
       "  <thead>\n",
       "    <tr style=\"text-align: right;\">\n",
       "      <th></th>\n",
       "      <th>Fare</th>\n",
       "      <th>Age</th>\n",
       "      <th>SibSp</th>\n",
       "      <th>Parch</th>\n",
       "      <th>Pclass</th>\n",
       "    </tr>\n",
       "  </thead>\n",
       "  <tbody>\n",
       "    <tr>\n",
       "      <th>count</th>\n",
       "      <td>417.000000</td>\n",
       "      <td>332.000000</td>\n",
       "      <td>418.000000</td>\n",
       "      <td>418.000000</td>\n",
       "      <td>418.000000</td>\n",
       "    </tr>\n",
       "    <tr>\n",
       "      <th>mean</th>\n",
       "      <td>35.627188</td>\n",
       "      <td>30.272590</td>\n",
       "      <td>0.447368</td>\n",
       "      <td>0.392344</td>\n",
       "      <td>2.265550</td>\n",
       "    </tr>\n",
       "    <tr>\n",
       "      <th>std</th>\n",
       "      <td>55.907576</td>\n",
       "      <td>14.181209</td>\n",
       "      <td>0.896760</td>\n",
       "      <td>0.981429</td>\n",
       "      <td>0.841838</td>\n",
       "    </tr>\n",
       "    <tr>\n",
       "      <th>min</th>\n",
       "      <td>0.000000</td>\n",
       "      <td>0.170000</td>\n",
       "      <td>0.000000</td>\n",
       "      <td>0.000000</td>\n",
       "      <td>1.000000</td>\n",
       "    </tr>\n",
       "    <tr>\n",
       "      <th>25%</th>\n",
       "      <td>7.895800</td>\n",
       "      <td>21.000000</td>\n",
       "      <td>0.000000</td>\n",
       "      <td>0.000000</td>\n",
       "      <td>1.000000</td>\n",
       "    </tr>\n",
       "    <tr>\n",
       "      <th>50%</th>\n",
       "      <td>14.454200</td>\n",
       "      <td>27.000000</td>\n",
       "      <td>0.000000</td>\n",
       "      <td>0.000000</td>\n",
       "      <td>3.000000</td>\n",
       "    </tr>\n",
       "    <tr>\n",
       "      <th>75%</th>\n",
       "      <td>31.500000</td>\n",
       "      <td>39.000000</td>\n",
       "      <td>1.000000</td>\n",
       "      <td>0.000000</td>\n",
       "      <td>3.000000</td>\n",
       "    </tr>\n",
       "    <tr>\n",
       "      <th>max</th>\n",
       "      <td>512.329200</td>\n",
       "      <td>76.000000</td>\n",
       "      <td>8.000000</td>\n",
       "      <td>9.000000</td>\n",
       "      <td>3.000000</td>\n",
       "    </tr>\n",
       "  </tbody>\n",
       "</table>\n",
       "</div>"
      ],
      "text/plain": [
       "             Fare         Age       SibSp       Parch      Pclass\n",
       "count  417.000000  332.000000  418.000000  418.000000  418.000000\n",
       "mean    35.627188   30.272590    0.447368    0.392344    2.265550\n",
       "std     55.907576   14.181209    0.896760    0.981429    0.841838\n",
       "min      0.000000    0.170000    0.000000    0.000000    1.000000\n",
       "25%      7.895800   21.000000    0.000000    0.000000    1.000000\n",
       "50%     14.454200   27.000000    0.000000    0.000000    3.000000\n",
       "75%     31.500000   39.000000    1.000000    0.000000    3.000000\n",
       "max    512.329200   76.000000    8.000000    9.000000    3.000000"
      ]
     },
     "execution_count": 14,
     "metadata": {},
     "output_type": "execute_result"
    }
   ],
   "source": [
    "data_test.describe()"
   ]
  },
  {
   "cell_type": "code",
   "execution_count": 15,
   "metadata": {},
   "outputs": [
    {
     "data": {
      "text/html": [
       "<div>\n",
       "<style scoped>\n",
       "    .dataframe tbody tr th:only-of-type {\n",
       "        vertical-align: middle;\n",
       "    }\n",
       "\n",
       "    .dataframe tbody tr th {\n",
       "        vertical-align: top;\n",
       "    }\n",
       "\n",
       "    .dataframe thead th {\n",
       "        text-align: right;\n",
       "    }\n",
       "</style>\n",
       "<table border=\"1\" class=\"dataframe\">\n",
       "  <thead>\n",
       "    <tr style=\"text-align: right;\">\n",
       "      <th></th>\n",
       "      <th>Embarked</th>\n",
       "      <th>Sex</th>\n",
       "    </tr>\n",
       "  </thead>\n",
       "  <tbody>\n",
       "    <tr>\n",
       "      <th>count</th>\n",
       "      <td>889</td>\n",
       "      <td>891</td>\n",
       "    </tr>\n",
       "    <tr>\n",
       "      <th>unique</th>\n",
       "      <td>3</td>\n",
       "      <td>2</td>\n",
       "    </tr>\n",
       "    <tr>\n",
       "      <th>top</th>\n",
       "      <td>S</td>\n",
       "      <td>male</td>\n",
       "    </tr>\n",
       "    <tr>\n",
       "      <th>freq</th>\n",
       "      <td>644</td>\n",
       "      <td>577</td>\n",
       "    </tr>\n",
       "  </tbody>\n",
       "</table>\n",
       "</div>"
      ],
      "text/plain": [
       "       Embarked   Sex\n",
       "count       889   891\n",
       "unique        3     2\n",
       "top           S  male\n",
       "freq        644   577"
      ]
     },
     "execution_count": 15,
     "metadata": {},
     "output_type": "execute_result"
    }
   ],
   "source": [
    "data_train.describe(include=['O'])"
   ]
  },
  {
   "cell_type": "code",
   "execution_count": 16,
   "metadata": {},
   "outputs": [
    {
     "data": {
      "text/html": [
       "<div>\n",
       "<style scoped>\n",
       "    .dataframe tbody tr th:only-of-type {\n",
       "        vertical-align: middle;\n",
       "    }\n",
       "\n",
       "    .dataframe tbody tr th {\n",
       "        vertical-align: top;\n",
       "    }\n",
       "\n",
       "    .dataframe thead th {\n",
       "        text-align: right;\n",
       "    }\n",
       "</style>\n",
       "<table border=\"1\" class=\"dataframe\">\n",
       "  <thead>\n",
       "    <tr style=\"text-align: right;\">\n",
       "      <th></th>\n",
       "      <th>Embarked</th>\n",
       "      <th>Sex</th>\n",
       "    </tr>\n",
       "  </thead>\n",
       "  <tbody>\n",
       "    <tr>\n",
       "      <th>count</th>\n",
       "      <td>418</td>\n",
       "      <td>418</td>\n",
       "    </tr>\n",
       "    <tr>\n",
       "      <th>unique</th>\n",
       "      <td>3</td>\n",
       "      <td>2</td>\n",
       "    </tr>\n",
       "    <tr>\n",
       "      <th>top</th>\n",
       "      <td>S</td>\n",
       "      <td>male</td>\n",
       "    </tr>\n",
       "    <tr>\n",
       "      <th>freq</th>\n",
       "      <td>270</td>\n",
       "      <td>266</td>\n",
       "    </tr>\n",
       "  </tbody>\n",
       "</table>\n",
       "</div>"
      ],
      "text/plain": [
       "       Embarked   Sex\n",
       "count       418   418\n",
       "unique        3     2\n",
       "top           S  male\n",
       "freq        270   266"
      ]
     },
     "execution_count": 16,
     "metadata": {},
     "output_type": "execute_result"
    }
   ],
   "source": [
    "data_test.describe(include=['O'])"
   ]
  },
  {
   "cell_type": "markdown",
   "metadata": {},
   "source": [
    "#### vérification de la présence des données manquantes dans le train"
   ]
  },
  {
   "cell_type": "code",
   "execution_count": 17,
   "metadata": {},
   "outputs": [
    {
     "data": {
      "text/plain": [
       "Fare          0\n",
       "Survived      0\n",
       "Embarked      2\n",
       "Age         177\n",
       "SibSp         0\n",
       "Parch         0\n",
       "Sex           0\n",
       "Pclass        0\n",
       "dtype: int64"
      ]
     },
     "execution_count": 17,
     "metadata": {},
     "output_type": "execute_result"
    }
   ],
   "source": [
    "data_train.isnull().sum()"
   ]
  },
  {
   "cell_type": "code",
   "execution_count": 18,
   "metadata": {},
   "outputs": [
    {
     "data": {
      "text/plain": [
       "Fare         1\n",
       "Embarked     0\n",
       "Age         86\n",
       "SibSp        0\n",
       "Parch        0\n",
       "Sex          0\n",
       "Pclass       0\n",
       "dtype: int64"
      ]
     },
     "execution_count": 18,
     "metadata": {},
     "output_type": "execute_result"
    }
   ],
   "source": [
    "data_test.isnull().sum()"
   ]
  },
  {
   "cell_type": "markdown",
   "metadata": {},
   "source": [
    "La variable Age a beaucoup de données manquantes.\n",
    "\n",
    "Les variables **Embarked** et **Fare** en ont également\n",
    "\n",
    "Nous remarquons la présence de données manquantes dans le train et le test. \n",
    "\n",
    "Nous allons devoir traiter les données manquantes du test obligatoirement afin d'obtenir une prédiction pour ces données."
   ]
  },
  {
   "cell_type": "code",
   "execution_count": 19,
   "metadata": {},
   "outputs": [
    {
     "data": {
      "text/html": [
       "<div>\n",
       "<style scoped>\n",
       "    .dataframe tbody tr th:only-of-type {\n",
       "        vertical-align: middle;\n",
       "    }\n",
       "\n",
       "    .dataframe tbody tr th {\n",
       "        vertical-align: top;\n",
       "    }\n",
       "\n",
       "    .dataframe thead th {\n",
       "        text-align: right;\n",
       "    }\n",
       "</style>\n",
       "<table border=\"1\" class=\"dataframe\">\n",
       "  <thead>\n",
       "    <tr style=\"text-align: right;\">\n",
       "      <th></th>\n",
       "      <th>Fare</th>\n",
       "      <th>Survived</th>\n",
       "      <th>Embarked</th>\n",
       "      <th>Age</th>\n",
       "      <th>SibSp</th>\n",
       "      <th>Parch</th>\n",
       "      <th>Sex</th>\n",
       "      <th>Pclass</th>\n",
       "    </tr>\n",
       "  </thead>\n",
       "  <tbody>\n",
       "    <tr>\n",
       "      <th>5</th>\n",
       "      <td>8.4583</td>\n",
       "      <td>0</td>\n",
       "      <td>Q</td>\n",
       "      <td>NaN</td>\n",
       "      <td>0</td>\n",
       "      <td>0</td>\n",
       "      <td>male</td>\n",
       "      <td>3</td>\n",
       "    </tr>\n",
       "    <tr>\n",
       "      <th>17</th>\n",
       "      <td>13.0000</td>\n",
       "      <td>1</td>\n",
       "      <td>S</td>\n",
       "      <td>NaN</td>\n",
       "      <td>0</td>\n",
       "      <td>0</td>\n",
       "      <td>male</td>\n",
       "      <td>2</td>\n",
       "    </tr>\n",
       "    <tr>\n",
       "      <th>19</th>\n",
       "      <td>7.2250</td>\n",
       "      <td>1</td>\n",
       "      <td>C</td>\n",
       "      <td>NaN</td>\n",
       "      <td>0</td>\n",
       "      <td>0</td>\n",
       "      <td>female</td>\n",
       "      <td>3</td>\n",
       "    </tr>\n",
       "    <tr>\n",
       "      <th>26</th>\n",
       "      <td>7.2250</td>\n",
       "      <td>0</td>\n",
       "      <td>C</td>\n",
       "      <td>NaN</td>\n",
       "      <td>0</td>\n",
       "      <td>0</td>\n",
       "      <td>male</td>\n",
       "      <td>3</td>\n",
       "    </tr>\n",
       "    <tr>\n",
       "      <th>28</th>\n",
       "      <td>7.8792</td>\n",
       "      <td>1</td>\n",
       "      <td>Q</td>\n",
       "      <td>NaN</td>\n",
       "      <td>0</td>\n",
       "      <td>0</td>\n",
       "      <td>female</td>\n",
       "      <td>3</td>\n",
       "    </tr>\n",
       "  </tbody>\n",
       "</table>\n",
       "</div>"
      ],
      "text/plain": [
       "       Fare  Survived Embarked  Age  SibSp  Parch     Sex  Pclass\n",
       "5    8.4583         0        Q  NaN      0      0    male       3\n",
       "17  13.0000         1        S  NaN      0      0    male       2\n",
       "19   7.2250         1        C  NaN      0      0  female       3\n",
       "26   7.2250         0        C  NaN      0      0    male       3\n",
       "28   7.8792         1        Q  NaN      0      0  female       3"
      ]
     },
     "execution_count": 19,
     "metadata": {},
     "output_type": "execute_result"
    }
   ],
   "source": [
    "# visualisation des données manquantes dans le train\n",
    "data_train[data_train.isnull().any(axis=1)].head()"
   ]
  },
  {
   "cell_type": "code",
   "execution_count": 20,
   "metadata": {},
   "outputs": [
    {
     "data": {
      "text/html": [
       "<div>\n",
       "<style scoped>\n",
       "    .dataframe tbody tr th:only-of-type {\n",
       "        vertical-align: middle;\n",
       "    }\n",
       "\n",
       "    .dataframe tbody tr th {\n",
       "        vertical-align: top;\n",
       "    }\n",
       "\n",
       "    .dataframe thead th {\n",
       "        text-align: right;\n",
       "    }\n",
       "</style>\n",
       "<table border=\"1\" class=\"dataframe\">\n",
       "  <thead>\n",
       "    <tr style=\"text-align: right;\">\n",
       "      <th></th>\n",
       "      <th>Fare</th>\n",
       "      <th>Embarked</th>\n",
       "      <th>Age</th>\n",
       "      <th>SibSp</th>\n",
       "      <th>Parch</th>\n",
       "      <th>Sex</th>\n",
       "      <th>Pclass</th>\n",
       "    </tr>\n",
       "  </thead>\n",
       "  <tbody>\n",
       "    <tr>\n",
       "      <th>10</th>\n",
       "      <td>7.8958</td>\n",
       "      <td>S</td>\n",
       "      <td>NaN</td>\n",
       "      <td>0</td>\n",
       "      <td>0</td>\n",
       "      <td>male</td>\n",
       "      <td>3</td>\n",
       "    </tr>\n",
       "    <tr>\n",
       "      <th>22</th>\n",
       "      <td>31.6833</td>\n",
       "      <td>S</td>\n",
       "      <td>NaN</td>\n",
       "      <td>0</td>\n",
       "      <td>0</td>\n",
       "      <td>female</td>\n",
       "      <td>1</td>\n",
       "    </tr>\n",
       "    <tr>\n",
       "      <th>29</th>\n",
       "      <td>21.6792</td>\n",
       "      <td>C</td>\n",
       "      <td>NaN</td>\n",
       "      <td>2</td>\n",
       "      <td>0</td>\n",
       "      <td>male</td>\n",
       "      <td>3</td>\n",
       "    </tr>\n",
       "    <tr>\n",
       "      <th>33</th>\n",
       "      <td>23.4500</td>\n",
       "      <td>S</td>\n",
       "      <td>NaN</td>\n",
       "      <td>1</td>\n",
       "      <td>2</td>\n",
       "      <td>female</td>\n",
       "      <td>3</td>\n",
       "    </tr>\n",
       "    <tr>\n",
       "      <th>36</th>\n",
       "      <td>8.0500</td>\n",
       "      <td>S</td>\n",
       "      <td>NaN</td>\n",
       "      <td>0</td>\n",
       "      <td>0</td>\n",
       "      <td>female</td>\n",
       "      <td>3</td>\n",
       "    </tr>\n",
       "  </tbody>\n",
       "</table>\n",
       "</div>"
      ],
      "text/plain": [
       "       Fare Embarked  Age  SibSp  Parch     Sex  Pclass\n",
       "10   7.8958        S  NaN      0      0    male       3\n",
       "22  31.6833        S  NaN      0      0  female       1\n",
       "29  21.6792        C  NaN      2      0    male       3\n",
       "33  23.4500        S  NaN      1      2  female       3\n",
       "36   8.0500        S  NaN      0      0  female       3"
      ]
     },
     "execution_count": 20,
     "metadata": {},
     "output_type": "execute_result"
    }
   ],
   "source": [
    "# visualisation des données manquantes dans le test\n",
    "data_test[data_test.isnull().any(axis=1)].head()"
   ]
  },
  {
   "cell_type": "markdown",
   "metadata": {},
   "source": [
    "##### Comment traiter les données manquantes?\n",
    "\n",
    "Dans un premier temps nous allons commencer par remplacer les valeurs nulles par:\n",
    "\n",
    "- la valeur médiane (si la variables est numérique)\n",
    "- la valeur avec le mode le plus grand (si la variable est catégorielle)\n",
    "\n",
    "**NB**: les valeurs médianes et le mode doivent etre calculés à partir des données de **Train** et non les données de **Test**"
   ]
  },
  {
   "cell_type": "code",
   "execution_count": 21,
   "metadata": {},
   "outputs": [],
   "source": [
    "Age_mean = data_train['Age'].mean()\n",
    "Fare_mean = data_train['Fare'].mean()\n",
    "Embarked_mode = data_train['Embarked'].mode()[0]\n",
    "\n",
    "data_train.loc[data_train['Age'].isna(), 'Age'] = Age_mean\n",
    "data_test.loc[data_test['Age'].isna(), 'Age'] = Age_mean\n",
    "\n",
    "data_train.loc[data_train['Embarked'].isna(), 'Embarked'] = Embarked_mode\n",
    "\n",
    "data_test.loc[data_test['Fare'].isna(), 'Fare'] = Fare_mean"
   ]
  },
  {
   "cell_type": "code",
   "execution_count": 22,
   "metadata": {},
   "outputs": [
    {
     "data": {
      "text/plain": [
       "Fare        0\n",
       "Survived    0\n",
       "Embarked    0\n",
       "Age         0\n",
       "SibSp       0\n",
       "Parch       0\n",
       "Sex         0\n",
       "Pclass      0\n",
       "dtype: int64"
      ]
     },
     "execution_count": 22,
     "metadata": {},
     "output_type": "execute_result"
    }
   ],
   "source": [
    "data_train.isnull().sum()"
   ]
  },
  {
   "cell_type": "code",
   "execution_count": 23,
   "metadata": {},
   "outputs": [
    {
     "data": {
      "text/plain": [
       "Fare        0\n",
       "Embarked    0\n",
       "Age         0\n",
       "SibSp       0\n",
       "Parch       0\n",
       "Sex         0\n",
       "Pclass      0\n",
       "dtype: int64"
      ]
     },
     "execution_count": 23,
     "metadata": {},
     "output_type": "execute_result"
    }
   ],
   "source": [
    "data_test.isnull().sum()"
   ]
  },
  {
   "cell_type": "markdown",
   "metadata": {},
   "source": [
    "Nous n'avons plus de données manquantes"
   ]
  },
  {
   "cell_type": "markdown",
   "metadata": {},
   "source": [
    "#### outliers\n",
    "\n",
    "Nous allons faire une détection uni-dimensionnelle pour détecter les outliers. \n",
    "\n",
    "Cela va consister à regarder si les valeurs de chaque colonne correspondent bien à un domaine qui reflettent bien\n",
    "la réalité."
   ]
  },
  {
   "cell_type": "code",
   "execution_count": 24,
   "metadata": {},
   "outputs": [
    {
     "data": {
      "text/html": [
       "<div>\n",
       "<style scoped>\n",
       "    .dataframe tbody tr th:only-of-type {\n",
       "        vertical-align: middle;\n",
       "    }\n",
       "\n",
       "    .dataframe tbody tr th {\n",
       "        vertical-align: top;\n",
       "    }\n",
       "\n",
       "    .dataframe thead th {\n",
       "        text-align: right;\n",
       "    }\n",
       "</style>\n",
       "<table border=\"1\" class=\"dataframe\">\n",
       "  <thead>\n",
       "    <tr style=\"text-align: right;\">\n",
       "      <th></th>\n",
       "      <th>Fare</th>\n",
       "      <th>Survived</th>\n",
       "      <th>Age</th>\n",
       "      <th>SibSp</th>\n",
       "      <th>Parch</th>\n",
       "      <th>Pclass</th>\n",
       "    </tr>\n",
       "  </thead>\n",
       "  <tbody>\n",
       "    <tr>\n",
       "      <th>count</th>\n",
       "      <td>891.000000</td>\n",
       "      <td>891.000000</td>\n",
       "      <td>891.000000</td>\n",
       "      <td>891.000000</td>\n",
       "      <td>891.000000</td>\n",
       "      <td>891.000000</td>\n",
       "    </tr>\n",
       "    <tr>\n",
       "      <th>mean</th>\n",
       "      <td>32.204208</td>\n",
       "      <td>0.383838</td>\n",
       "      <td>29.699118</td>\n",
       "      <td>0.523008</td>\n",
       "      <td>0.381594</td>\n",
       "      <td>2.308642</td>\n",
       "    </tr>\n",
       "    <tr>\n",
       "      <th>std</th>\n",
       "      <td>49.693429</td>\n",
       "      <td>0.486592</td>\n",
       "      <td>13.002015</td>\n",
       "      <td>1.102743</td>\n",
       "      <td>0.806057</td>\n",
       "      <td>0.836071</td>\n",
       "    </tr>\n",
       "    <tr>\n",
       "      <th>min</th>\n",
       "      <td>0.000000</td>\n",
       "      <td>0.000000</td>\n",
       "      <td>0.420000</td>\n",
       "      <td>0.000000</td>\n",
       "      <td>0.000000</td>\n",
       "      <td>1.000000</td>\n",
       "    </tr>\n",
       "    <tr>\n",
       "      <th>25%</th>\n",
       "      <td>7.910400</td>\n",
       "      <td>0.000000</td>\n",
       "      <td>22.000000</td>\n",
       "      <td>0.000000</td>\n",
       "      <td>0.000000</td>\n",
       "      <td>2.000000</td>\n",
       "    </tr>\n",
       "    <tr>\n",
       "      <th>50%</th>\n",
       "      <td>14.454200</td>\n",
       "      <td>0.000000</td>\n",
       "      <td>29.699118</td>\n",
       "      <td>0.000000</td>\n",
       "      <td>0.000000</td>\n",
       "      <td>3.000000</td>\n",
       "    </tr>\n",
       "    <tr>\n",
       "      <th>75%</th>\n",
       "      <td>31.000000</td>\n",
       "      <td>1.000000</td>\n",
       "      <td>35.000000</td>\n",
       "      <td>1.000000</td>\n",
       "      <td>0.000000</td>\n",
       "      <td>3.000000</td>\n",
       "    </tr>\n",
       "    <tr>\n",
       "      <th>max</th>\n",
       "      <td>512.329200</td>\n",
       "      <td>1.000000</td>\n",
       "      <td>80.000000</td>\n",
       "      <td>8.000000</td>\n",
       "      <td>6.000000</td>\n",
       "      <td>3.000000</td>\n",
       "    </tr>\n",
       "  </tbody>\n",
       "</table>\n",
       "</div>"
      ],
      "text/plain": [
       "             Fare    Survived         Age       SibSp       Parch      Pclass\n",
       "count  891.000000  891.000000  891.000000  891.000000  891.000000  891.000000\n",
       "mean    32.204208    0.383838   29.699118    0.523008    0.381594    2.308642\n",
       "std     49.693429    0.486592   13.002015    1.102743    0.806057    0.836071\n",
       "min      0.000000    0.000000    0.420000    0.000000    0.000000    1.000000\n",
       "25%      7.910400    0.000000   22.000000    0.000000    0.000000    2.000000\n",
       "50%     14.454200    0.000000   29.699118    0.000000    0.000000    3.000000\n",
       "75%     31.000000    1.000000   35.000000    1.000000    0.000000    3.000000\n",
       "max    512.329200    1.000000   80.000000    8.000000    6.000000    3.000000"
      ]
     },
     "execution_count": 24,
     "metadata": {},
     "output_type": "execute_result"
    }
   ],
   "source": [
    "data_train.describe()"
   ]
  },
  {
   "cell_type": "code",
   "execution_count": 25,
   "metadata": {},
   "outputs": [
    {
     "data": {
      "text/html": [
       "<div>\n",
       "<style scoped>\n",
       "    .dataframe tbody tr th:only-of-type {\n",
       "        vertical-align: middle;\n",
       "    }\n",
       "\n",
       "    .dataframe tbody tr th {\n",
       "        vertical-align: top;\n",
       "    }\n",
       "\n",
       "    .dataframe thead th {\n",
       "        text-align: right;\n",
       "    }\n",
       "</style>\n",
       "<table border=\"1\" class=\"dataframe\">\n",
       "  <thead>\n",
       "    <tr style=\"text-align: right;\">\n",
       "      <th></th>\n",
       "      <th>Fare</th>\n",
       "      <th>Age</th>\n",
       "      <th>SibSp</th>\n",
       "      <th>Parch</th>\n",
       "      <th>Pclass</th>\n",
       "    </tr>\n",
       "  </thead>\n",
       "  <tbody>\n",
       "    <tr>\n",
       "      <th>count</th>\n",
       "      <td>418.000000</td>\n",
       "      <td>418.000000</td>\n",
       "      <td>418.000000</td>\n",
       "      <td>418.000000</td>\n",
       "      <td>418.000000</td>\n",
       "    </tr>\n",
       "    <tr>\n",
       "      <th>mean</th>\n",
       "      <td>35.619000</td>\n",
       "      <td>30.154603</td>\n",
       "      <td>0.447368</td>\n",
       "      <td>0.392344</td>\n",
       "      <td>2.265550</td>\n",
       "    </tr>\n",
       "    <tr>\n",
       "      <th>std</th>\n",
       "      <td>55.840751</td>\n",
       "      <td>12.636666</td>\n",
       "      <td>0.896760</td>\n",
       "      <td>0.981429</td>\n",
       "      <td>0.841838</td>\n",
       "    </tr>\n",
       "    <tr>\n",
       "      <th>min</th>\n",
       "      <td>0.000000</td>\n",
       "      <td>0.170000</td>\n",
       "      <td>0.000000</td>\n",
       "      <td>0.000000</td>\n",
       "      <td>1.000000</td>\n",
       "    </tr>\n",
       "    <tr>\n",
       "      <th>25%</th>\n",
       "      <td>7.895800</td>\n",
       "      <td>23.000000</td>\n",
       "      <td>0.000000</td>\n",
       "      <td>0.000000</td>\n",
       "      <td>1.000000</td>\n",
       "    </tr>\n",
       "    <tr>\n",
       "      <th>50%</th>\n",
       "      <td>14.454200</td>\n",
       "      <td>29.699118</td>\n",
       "      <td>0.000000</td>\n",
       "      <td>0.000000</td>\n",
       "      <td>3.000000</td>\n",
       "    </tr>\n",
       "    <tr>\n",
       "      <th>75%</th>\n",
       "      <td>31.500000</td>\n",
       "      <td>35.750000</td>\n",
       "      <td>1.000000</td>\n",
       "      <td>0.000000</td>\n",
       "      <td>3.000000</td>\n",
       "    </tr>\n",
       "    <tr>\n",
       "      <th>max</th>\n",
       "      <td>512.329200</td>\n",
       "      <td>76.000000</td>\n",
       "      <td>8.000000</td>\n",
       "      <td>9.000000</td>\n",
       "      <td>3.000000</td>\n",
       "    </tr>\n",
       "  </tbody>\n",
       "</table>\n",
       "</div>"
      ],
      "text/plain": [
       "             Fare         Age       SibSp       Parch      Pclass\n",
       "count  418.000000  418.000000  418.000000  418.000000  418.000000\n",
       "mean    35.619000   30.154603    0.447368    0.392344    2.265550\n",
       "std     55.840751   12.636666    0.896760    0.981429    0.841838\n",
       "min      0.000000    0.170000    0.000000    0.000000    1.000000\n",
       "25%      7.895800   23.000000    0.000000    0.000000    1.000000\n",
       "50%     14.454200   29.699118    0.000000    0.000000    3.000000\n",
       "75%     31.500000   35.750000    1.000000    0.000000    3.000000\n",
       "max    512.329200   76.000000    8.000000    9.000000    3.000000"
      ]
     },
     "execution_count": 25,
     "metadata": {},
     "output_type": "execute_result"
    }
   ],
   "source": [
    "data_test.describe()"
   ]
  },
  {
   "cell_type": "markdown",
   "metadata": {},
   "source": [
    "Nous n'observons aucune valeur abérante aux extrème (min, max)\n",
    "\n",
    "Notons qu'une analyse multi-dimensionnelle (2 ou 3) serait plus adaptée. Desalgorithme de détection d'outlier tel que Isolation Forest pourrait etre utilisé (https://scikit-learn.org/stable/modules/generated/sklearn.ensemble.IsolationForest.html#sklearn.ensemble.IsolationForest)"
   ]
  },
  {
   "cell_type": "markdown",
   "metadata": {},
   "source": [
    "#### Visualisation des données"
   ]
  },
  {
   "cell_type": "markdown",
   "metadata": {},
   "source": [
    "##### Uni dimensionnelle"
   ]
  },
  {
   "cell_type": "code",
   "execution_count": 26,
   "metadata": {},
   "outputs": [
    {
     "data": {
      "text/html": [
       "<div>\n",
       "<style scoped>\n",
       "    .dataframe tbody tr th:only-of-type {\n",
       "        vertical-align: middle;\n",
       "    }\n",
       "\n",
       "    .dataframe tbody tr th {\n",
       "        vertical-align: top;\n",
       "    }\n",
       "\n",
       "    .dataframe thead th {\n",
       "        text-align: right;\n",
       "    }\n",
       "</style>\n",
       "<table border=\"1\" class=\"dataframe\">\n",
       "  <thead>\n",
       "    <tr style=\"text-align: right;\">\n",
       "      <th></th>\n",
       "      <th>Fare</th>\n",
       "      <th>Survived</th>\n",
       "      <th>Age</th>\n",
       "      <th>SibSp</th>\n",
       "      <th>Parch</th>\n",
       "      <th>Pclass</th>\n",
       "    </tr>\n",
       "  </thead>\n",
       "  <tbody>\n",
       "    <tr>\n",
       "      <th>count</th>\n",
       "      <td>891.000000</td>\n",
       "      <td>891.000000</td>\n",
       "      <td>891.000000</td>\n",
       "      <td>891.000000</td>\n",
       "      <td>891.000000</td>\n",
       "      <td>891.000000</td>\n",
       "    </tr>\n",
       "    <tr>\n",
       "      <th>mean</th>\n",
       "      <td>32.204208</td>\n",
       "      <td>0.383838</td>\n",
       "      <td>29.699118</td>\n",
       "      <td>0.523008</td>\n",
       "      <td>0.381594</td>\n",
       "      <td>2.308642</td>\n",
       "    </tr>\n",
       "    <tr>\n",
       "      <th>std</th>\n",
       "      <td>49.693429</td>\n",
       "      <td>0.486592</td>\n",
       "      <td>13.002015</td>\n",
       "      <td>1.102743</td>\n",
       "      <td>0.806057</td>\n",
       "      <td>0.836071</td>\n",
       "    </tr>\n",
       "    <tr>\n",
       "      <th>min</th>\n",
       "      <td>0.000000</td>\n",
       "      <td>0.000000</td>\n",
       "      <td>0.420000</td>\n",
       "      <td>0.000000</td>\n",
       "      <td>0.000000</td>\n",
       "      <td>1.000000</td>\n",
       "    </tr>\n",
       "    <tr>\n",
       "      <th>25%</th>\n",
       "      <td>7.910400</td>\n",
       "      <td>0.000000</td>\n",
       "      <td>22.000000</td>\n",
       "      <td>0.000000</td>\n",
       "      <td>0.000000</td>\n",
       "      <td>2.000000</td>\n",
       "    </tr>\n",
       "    <tr>\n",
       "      <th>50%</th>\n",
       "      <td>14.454200</td>\n",
       "      <td>0.000000</td>\n",
       "      <td>29.699118</td>\n",
       "      <td>0.000000</td>\n",
       "      <td>0.000000</td>\n",
       "      <td>3.000000</td>\n",
       "    </tr>\n",
       "    <tr>\n",
       "      <th>75%</th>\n",
       "      <td>31.000000</td>\n",
       "      <td>1.000000</td>\n",
       "      <td>35.000000</td>\n",
       "      <td>1.000000</td>\n",
       "      <td>0.000000</td>\n",
       "      <td>3.000000</td>\n",
       "    </tr>\n",
       "    <tr>\n",
       "      <th>max</th>\n",
       "      <td>512.329200</td>\n",
       "      <td>1.000000</td>\n",
       "      <td>80.000000</td>\n",
       "      <td>8.000000</td>\n",
       "      <td>6.000000</td>\n",
       "      <td>3.000000</td>\n",
       "    </tr>\n",
       "  </tbody>\n",
       "</table>\n",
       "</div>"
      ],
      "text/plain": [
       "             Fare    Survived         Age       SibSp       Parch      Pclass\n",
       "count  891.000000  891.000000  891.000000  891.000000  891.000000  891.000000\n",
       "mean    32.204208    0.383838   29.699118    0.523008    0.381594    2.308642\n",
       "std     49.693429    0.486592   13.002015    1.102743    0.806057    0.836071\n",
       "min      0.000000    0.000000    0.420000    0.000000    0.000000    1.000000\n",
       "25%      7.910400    0.000000   22.000000    0.000000    0.000000    2.000000\n",
       "50%     14.454200    0.000000   29.699118    0.000000    0.000000    3.000000\n",
       "75%     31.000000    1.000000   35.000000    1.000000    0.000000    3.000000\n",
       "max    512.329200    1.000000   80.000000    8.000000    6.000000    3.000000"
      ]
     },
     "execution_count": 26,
     "metadata": {},
     "output_type": "execute_result"
    }
   ],
   "source": [
    "data_train.describe()"
   ]
  },
  {
   "cell_type": "code",
   "execution_count": 27,
   "metadata": {},
   "outputs": [
    {
     "data": {
      "text/html": [
       "<div>\n",
       "<style scoped>\n",
       "    .dataframe tbody tr th:only-of-type {\n",
       "        vertical-align: middle;\n",
       "    }\n",
       "\n",
       "    .dataframe tbody tr th {\n",
       "        vertical-align: top;\n",
       "    }\n",
       "\n",
       "    .dataframe thead th {\n",
       "        text-align: right;\n",
       "    }\n",
       "</style>\n",
       "<table border=\"1\" class=\"dataframe\">\n",
       "  <thead>\n",
       "    <tr style=\"text-align: right;\">\n",
       "      <th></th>\n",
       "      <th>Fare</th>\n",
       "      <th>Age</th>\n",
       "      <th>SibSp</th>\n",
       "      <th>Parch</th>\n",
       "      <th>Pclass</th>\n",
       "    </tr>\n",
       "  </thead>\n",
       "  <tbody>\n",
       "    <tr>\n",
       "      <th>count</th>\n",
       "      <td>418.000000</td>\n",
       "      <td>418.000000</td>\n",
       "      <td>418.000000</td>\n",
       "      <td>418.000000</td>\n",
       "      <td>418.000000</td>\n",
       "    </tr>\n",
       "    <tr>\n",
       "      <th>mean</th>\n",
       "      <td>35.619000</td>\n",
       "      <td>30.154603</td>\n",
       "      <td>0.447368</td>\n",
       "      <td>0.392344</td>\n",
       "      <td>2.265550</td>\n",
       "    </tr>\n",
       "    <tr>\n",
       "      <th>std</th>\n",
       "      <td>55.840751</td>\n",
       "      <td>12.636666</td>\n",
       "      <td>0.896760</td>\n",
       "      <td>0.981429</td>\n",
       "      <td>0.841838</td>\n",
       "    </tr>\n",
       "    <tr>\n",
       "      <th>min</th>\n",
       "      <td>0.000000</td>\n",
       "      <td>0.170000</td>\n",
       "      <td>0.000000</td>\n",
       "      <td>0.000000</td>\n",
       "      <td>1.000000</td>\n",
       "    </tr>\n",
       "    <tr>\n",
       "      <th>25%</th>\n",
       "      <td>7.895800</td>\n",
       "      <td>23.000000</td>\n",
       "      <td>0.000000</td>\n",
       "      <td>0.000000</td>\n",
       "      <td>1.000000</td>\n",
       "    </tr>\n",
       "    <tr>\n",
       "      <th>50%</th>\n",
       "      <td>14.454200</td>\n",
       "      <td>29.699118</td>\n",
       "      <td>0.000000</td>\n",
       "      <td>0.000000</td>\n",
       "      <td>3.000000</td>\n",
       "    </tr>\n",
       "    <tr>\n",
       "      <th>75%</th>\n",
       "      <td>31.500000</td>\n",
       "      <td>35.750000</td>\n",
       "      <td>1.000000</td>\n",
       "      <td>0.000000</td>\n",
       "      <td>3.000000</td>\n",
       "    </tr>\n",
       "    <tr>\n",
       "      <th>max</th>\n",
       "      <td>512.329200</td>\n",
       "      <td>76.000000</td>\n",
       "      <td>8.000000</td>\n",
       "      <td>9.000000</td>\n",
       "      <td>3.000000</td>\n",
       "    </tr>\n",
       "  </tbody>\n",
       "</table>\n",
       "</div>"
      ],
      "text/plain": [
       "             Fare         Age       SibSp       Parch      Pclass\n",
       "count  418.000000  418.000000  418.000000  418.000000  418.000000\n",
       "mean    35.619000   30.154603    0.447368    0.392344    2.265550\n",
       "std     55.840751   12.636666    0.896760    0.981429    0.841838\n",
       "min      0.000000    0.170000    0.000000    0.000000    1.000000\n",
       "25%      7.895800   23.000000    0.000000    0.000000    1.000000\n",
       "50%     14.454200   29.699118    0.000000    0.000000    3.000000\n",
       "75%     31.500000   35.750000    1.000000    0.000000    3.000000\n",
       "max    512.329200   76.000000    8.000000    9.000000    3.000000"
      ]
     },
     "execution_count": 27,
     "metadata": {},
     "output_type": "execute_result"
    }
   ],
   "source": [
    "data_test.describe()"
   ]
  },
  {
   "cell_type": "code",
   "execution_count": 28,
   "metadata": {},
   "outputs": [
    {
     "data": {
      "image/png": "[encoded data removed]",
      "text/plain": [
       "<Figure size 1080x720 with 9 Axes>"
      ]
     },
     "metadata": {
      "needs_background": "light"
     },
     "output_type": "display_data"
    }
   ],
   "source": [
    "# Histogrammes (données numériques)\n",
    "rcParams['figure.figsize'] = 15, 10\n",
    "data_train.hist(layout=(3,3), bins = 20)\n",
    "pyplot.show()"
   ]
  },
  {
   "cell_type": "code",
   "execution_count": 29,
   "metadata": {},
   "outputs": [
    {
     "data": {
      "image/png": "[encoded data removed]",
      "text/plain": [
       "<Figure size 1080x720 with 9 Axes>"
      ]
     },
     "metadata": {
      "needs_background": "light"
     },
     "output_type": "display_data"
    }
   ],
   "source": [
    "# Box plot\n",
    "data_train.plot(kind= 'box' , subplots=True, layout=(3,3), sharex=False, sharey=False)\n",
    "pyplot.show()"
   ]
  },
  {
   "cell_type": "code",
   "execution_count": 30,
   "metadata": {},
   "outputs": [
    {
     "data": {
      "image/png": "[encoded data removed]",
      "text/plain": [
       "<Figure size 1080x720 with 9 Axes>"
      ]
     },
     "metadata": {
      "needs_background": "light"
     },
     "output_type": "display_data"
    }
   ],
   "source": [
    "# Histogrammes (données numériques)\n",
    "rcParams['figure.figsize'] = 15, 10\n",
    "data_test.hist(layout=(3,3), bins = 20)\n",
    "pyplot.show()"
   ]
  },
  {
   "cell_type": "code",
   "execution_count": 31,
   "metadata": {},
   "outputs": [
    {
     "data": {
      "image/png": "[encoded data removed]",
      "text/plain": [
       "<Figure size 1080x720 with 9 Axes>"
      ]
     },
     "metadata": {
      "needs_background": "light"
     },
     "output_type": "display_data"
    }
   ],
   "source": [
    "# Box plot\n",
    "data_test.plot(kind= 'box' , subplots=True, layout=(3,3), sharex=False, sharey=False)\n",
    "pyplot.show()"
   ]
  },
  {
   "cell_type": "markdown",
   "metadata": {},
   "source": [
    "On remarque que:\n",
    "\n",
    "- Les distributions de Train et Test sont assez similaires (Bonne nouvelle pour la construction des modèles)\n",
    "- Parch: la plupart des passagers n'avaient pas de parents ou enfants à bord\n",
    "- SiSp: la plupart des passagers avaient 0 ou 1 frères ou soeurs à bord\n",
    "- Age: la moyenne d'age est autour de 25-30\n",
    "- Pclass: 3 valeurs possibles. La plupart des passagers sont en 3ième classe\n",
    "- Fare: La plupart des passagers payent un prix bas (cette varibale est donc lié à Pclass). prix bas => 3ième classe\n",
    "- Les boxplots nous montrent des valeurs extrèmes.  Cela sera très important pour le feature engineering car nous pourrons créer des varibales supplémentaires en fonction de l'interquartile Range(IQR) ou autre sub-divisions ( < seuil ou >= seuil)."
   ]
  },
  {
   "cell_type": "code",
   "execution_count": 32,
   "metadata": {},
   "outputs": [
    {
     "name": "stdout",
     "output_type": "stream",
     "text": [
      "       Embarked   Sex\n",
      "count       891   891\n",
      "unique        3     2\n",
      "top           S  male\n",
      "freq        646   577\n",
      "=============================================\n",
      "\n",
      " Embarked \n",
      "\n",
      "S    646\n",
      "C    168\n",
      "Q     77\n",
      "Name: Embarked, dtype: int64\n",
      "=========================\n",
      "\n",
      " Sex \n",
      "\n",
      "male      577\n",
      "female    314\n",
      "Name: Sex, dtype: int64\n",
      "=========================\n"
     ]
    }
   ],
   "source": [
    "# distributions (données catégorielles)\n",
    "print(data_train.describe(include=['object']))\n",
    "print(\"=============================================\")\n",
    "\n",
    "for c in data_train.describe(include=['object']).columns:\n",
    "    print('\\n %s \\n\\n%s'%(c, data_train[c].value_counts()))\n",
    "    print('=========================')"
   ]
  },
  {
   "cell_type": "code",
   "execution_count": 33,
   "metadata": {},
   "outputs": [
    {
     "name": "stdout",
     "output_type": "stream",
     "text": [
      "       Embarked   Sex\n",
      "count       418   418\n",
      "unique        3     2\n",
      "top           S  male\n",
      "freq        270   266\n",
      "=============================================\n",
      "\n",
      " Embarked \n",
      "\n",
      "S    270\n",
      "C    102\n",
      "Q     46\n",
      "Name: Embarked, dtype: int64\n",
      "=========================\n",
      "\n",
      " Sex \n",
      "\n",
      "male      266\n",
      "female    152\n",
      "Name: Sex, dtype: int64\n",
      "=========================\n"
     ]
    }
   ],
   "source": [
    "# distributions (données catégorielles)\n",
    "print(data_test.describe(include=['object']))\n",
    "print(\"=============================================\")\n",
    "\n",
    "for c in data_test.describe(include=['object']).columns:\n",
    "    print('\\n %s \\n\\n%s'%(c, data_test[c].value_counts()))\n",
    "    print('=========================')"
   ]
  },
  {
   "cell_type": "markdown",
   "metadata": {},
   "source": [
    "On remarque que:\n",
    "\n",
    "- Embarked: la plupart des passagers sont en **S** \n",
    "- Sex: la plupart des passagers sont des **hommes**\n",
    "    "
   ]
  },
  {
   "cell_type": "markdown",
   "metadata": {},
   "source": [
    "##### multi-dimensionnelle"
   ]
  },
  {
   "cell_type": "code",
   "execution_count": 34,
   "metadata": {},
   "outputs": [
    {
     "data": {
      "image/png": "[encoded data removed]",
      "text/plain": [
       "<Figure size 360x288 with 2 Axes>"
      ]
     },
     "metadata": {
      "needs_background": "light"
     },
     "output_type": "display_data"
    }
   ],
   "source": [
    "# correlation\n",
    "\n",
    "# Correction Matrix Plot\n",
    "def visualize_data(df, figsize=(5, 4)):\n",
    "    df_corr = df.corr()\n",
    "    data1 = df_corr.values\n",
    "    fig1 = plt.figure(figsize=figsize)\n",
    "    ax1 = fig1.add_subplot(111)\n",
    "    heatmap1 = ax1.pcolor(data1, cmap=plt.cm.RdYlGn)\n",
    "    fig1.colorbar(heatmap1)\n",
    "    ax1.set_xticks(np.arange(data1.shape[1]) + 0.5, minor=False)\n",
    "    ax1.set_yticks(np.arange(data1.shape[0]) + 0.5, minor=False)\n",
    "    ax1.invert_yaxis()\n",
    "    ax1.xaxis.tick_top()\n",
    "    column_labels = df_corr.columns\n",
    "    row_labels = df_corr.index\n",
    "    ax1.set_xticklabels(column_labels)\n",
    "    ax1.set_yticklabels(row_labels)\n",
    "    plt.xticks(rotation=90)\n",
    "    heatmap1.set_clim(-1,1)\n",
    "    plt.tight_layout()\n",
    "    #plt.savefig(\"correlations.png\", dpi = (300))\n",
    "    plt.show()\n",
    "\n",
    "col = list(data_train._get_numeric_data().columns)\n",
    "visualize_data(data_train[col])"
   ]
  },
  {
   "cell_type": "markdown",
   "metadata": {},
   "source": [
    "On remarque que:\n",
    "\n",
    "- SibSp et Parch: la plupart des passagers voyagaient en famille\n",
    "\n",
    "- Fare et Pclass: sont fortement correlées car la classe est étroitement lié au prix du voyage\n",
    "- Age et Pclass: les séniors voyagent en 1ère classe\n",
    "\n",
    "- Fare et Survived: les chances de survivre sont liées au prix du voyage\n",
    "- Pclass et Survived: les chances de survivre sont liées au prix et donc à la classe\n",
    "\n",
    "    "
   ]
  },
  {
   "cell_type": "code",
   "execution_count": 35,
   "metadata": {
    "scrolled": false
   },
   "outputs": [
    {
     "data": {
      "image/png": "[encoded data removed]",
      "text/plain": [
       "<Figure size 720x504 with 36 Axes>"
      ]
     },
     "metadata": {
      "needs_background": "light"
     },
     "output_type": "display_data"
    }
   ],
   "source": [
    "# Scatter Plot\n",
    "axs = scatter_matrix(data_train[col], alpha=0.2 , figsize=(10, 7))\n",
    "n = len(col)\n",
    "for x in range(n):\n",
    "    for y in range(n):\n",
    "        # to get the axis of subplots\n",
    "        ax = axs[x, y]\n",
    "        # to make x axis name vertical  \n",
    "        ax.xaxis.label.set_rotation(45)\n",
    "        # to make y axis name horizontal \n",
    "        ax.yaxis.label.set_rotation(0)\n",
    "        # to make sure y axis names are outside the plot area\n",
    "        ax.yaxis.labelpad = 50"
   ]
  },
  {
   "cell_type": "markdown",
   "metadata": {},
   "source": [
    "### Traitement des variables catégorielles\n",
    "\n",
    "Avant tous traitements, nous allons commencer par traiter les variables catégorielles: **Embarked**, **Sex** et **Pclass**"
   ]
  },
  {
   "cell_type": "code",
   "execution_count": 36,
   "metadata": {},
   "outputs": [
    {
     "data": {
      "text/plain": [
       "S    646\n",
       "C    168\n",
       "Q     77\n",
       "Name: Embarked, dtype: int64"
      ]
     },
     "execution_count": 36,
     "metadata": {},
     "output_type": "execute_result"
    }
   ],
   "source": [
    "data_train['Embarked'].value_counts()"
   ]
  },
  {
   "cell_type": "code",
   "execution_count": 37,
   "metadata": {},
   "outputs": [
    {
     "data": {
      "text/plain": [
       "male      577\n",
       "female    314\n",
       "Name: Sex, dtype: int64"
      ]
     },
     "execution_count": 37,
     "metadata": {},
     "output_type": "execute_result"
    }
   ],
   "source": [
    "data_train['Sex'].value_counts()"
   ]
  },
  {
   "cell_type": "code",
   "execution_count": 38,
   "metadata": {},
   "outputs": [
    {
     "data": {
      "text/plain": [
       "3    491\n",
       "1    216\n",
       "2    184\n",
       "Name: Pclass, dtype: int64"
      ]
     },
     "execution_count": 38,
     "metadata": {},
     "output_type": "execute_result"
    }
   ],
   "source": [
    "data_train['Pclass'].value_counts()"
   ]
  },
  {
   "cell_type": "code",
   "execution_count": 39,
   "metadata": {},
   "outputs": [],
   "source": [
    "def proces_dummies(data, list_dummies = ['']):\n",
    "    for dummy in list_dummies:\n",
    "        dummies = pd.get_dummies(data[dummy], prefix=dummy)\n",
    "        if dummies.shape[1] > 1:\n",
    "            dummies = dummies.iloc[:, 1:]\n",
    "        data = pd.concat([data, dummies], axis=1)\n",
    "#         data = data.drop(dummy, axis=1)\n",
    "    return data\n",
    "\n",
    "# Traitement de la variable dummy 'Embarked'\n",
    "data_train = proces_dummies(data_train, list_dummies = ['Embarked'])\n",
    "data_test = proces_dummies(data_test, list_dummies = ['Embarked'])\n",
    "\n",
    "# Traitement de la variable ordinale 'Sex'\n",
    "data_train = proces_dummies(data_train, list_dummies = ['Sex'])\n",
    "data_test = proces_dummies(data_test, list_dummies = ['Sex'])\n",
    "\n",
    "# Traitement de la variable ordinale ' Pclass'\n",
    "data_train = proces_dummies(data_train, list_dummies = ['Pclass'])\n",
    "data_test = proces_dummies(data_test, list_dummies = ['Pclass'])"
   ]
  },
  {
   "cell_type": "code",
   "execution_count": 40,
   "metadata": {},
   "outputs": [
    {
     "data": {
      "text/html": [
       "<div>\n",
       "<style scoped>\n",
       "    .dataframe tbody tr th:only-of-type {\n",
       "        vertical-align: middle;\n",
       "    }\n",
       "\n",
       "    .dataframe tbody tr th {\n",
       "        vertical-align: top;\n",
       "    }\n",
       "\n",
       "    .dataframe thead th {\n",
       "        text-align: right;\n",
       "    }\n",
       "</style>\n",
       "<table border=\"1\" class=\"dataframe\">\n",
       "  <thead>\n",
       "    <tr style=\"text-align: right;\">\n",
       "      <th></th>\n",
       "      <th>Fare</th>\n",
       "      <th>Survived</th>\n",
       "      <th>Embarked</th>\n",
       "      <th>Age</th>\n",
       "      <th>SibSp</th>\n",
       "      <th>Parch</th>\n",
       "      <th>Sex</th>\n",
       "      <th>Pclass</th>\n",
       "      <th>Embarked_Q</th>\n",
       "      <th>Embarked_S</th>\n",
       "      <th>Sex_male</th>\n",
       "      <th>Pclass_2</th>\n",
       "      <th>Pclass_3</th>\n",
       "    </tr>\n",
       "  </thead>\n",
       "  <tbody>\n",
       "    <tr>\n",
       "      <th>498</th>\n",
       "      <td>151.5500</td>\n",
       "      <td>0</td>\n",
       "      <td>S</td>\n",
       "      <td>25.000000</td>\n",
       "      <td>1</td>\n",
       "      <td>2</td>\n",
       "      <td>female</td>\n",
       "      <td>1</td>\n",
       "      <td>0</td>\n",
       "      <td>1</td>\n",
       "      <td>0</td>\n",
       "      <td>0</td>\n",
       "      <td>0</td>\n",
       "    </tr>\n",
       "    <tr>\n",
       "      <th>21</th>\n",
       "      <td>13.0000</td>\n",
       "      <td>1</td>\n",
       "      <td>S</td>\n",
       "      <td>34.000000</td>\n",
       "      <td>0</td>\n",
       "      <td>0</td>\n",
       "      <td>male</td>\n",
       "      <td>2</td>\n",
       "      <td>0</td>\n",
       "      <td>1</td>\n",
       "      <td>1</td>\n",
       "      <td>1</td>\n",
       "      <td>0</td>\n",
       "    </tr>\n",
       "    <tr>\n",
       "      <th>713</th>\n",
       "      <td>9.4833</td>\n",
       "      <td>0</td>\n",
       "      <td>S</td>\n",
       "      <td>29.000000</td>\n",
       "      <td>0</td>\n",
       "      <td>0</td>\n",
       "      <td>male</td>\n",
       "      <td>3</td>\n",
       "      <td>0</td>\n",
       "      <td>1</td>\n",
       "      <td>1</td>\n",
       "      <td>0</td>\n",
       "      <td>1</td>\n",
       "    </tr>\n",
       "    <tr>\n",
       "      <th>330</th>\n",
       "      <td>23.2500</td>\n",
       "      <td>1</td>\n",
       "      <td>Q</td>\n",
       "      <td>29.699118</td>\n",
       "      <td>2</td>\n",
       "      <td>0</td>\n",
       "      <td>female</td>\n",
       "      <td>3</td>\n",
       "      <td>1</td>\n",
       "      <td>0</td>\n",
       "      <td>0</td>\n",
       "      <td>0</td>\n",
       "      <td>1</td>\n",
       "    </tr>\n",
       "    <tr>\n",
       "      <th>200</th>\n",
       "      <td>9.5000</td>\n",
       "      <td>0</td>\n",
       "      <td>S</td>\n",
       "      <td>28.000000</td>\n",
       "      <td>0</td>\n",
       "      <td>0</td>\n",
       "      <td>male</td>\n",
       "      <td>3</td>\n",
       "      <td>0</td>\n",
       "      <td>1</td>\n",
       "      <td>1</td>\n",
       "      <td>0</td>\n",
       "      <td>1</td>\n",
       "    </tr>\n",
       "  </tbody>\n",
       "</table>\n",
       "</div>"
      ],
      "text/plain": [
       "         Fare  Survived Embarked        Age  SibSp  Parch     Sex  Pclass  \\\n",
       "498  151.5500         0        S  25.000000      1      2  female       1   \n",
       "21    13.0000         1        S  34.000000      0      0    male       2   \n",
       "713    9.4833         0        S  29.000000      0      0    male       3   \n",
       "330   23.2500         1        Q  29.699118      2      0  female       3   \n",
       "200    9.5000         0        S  28.000000      0      0    male       3   \n",
       "\n",
       "     Embarked_Q  Embarked_S  Sex_male  Pclass_2  Pclass_3  \n",
       "498           0           1         0         0         0  \n",
       "21            0           1         1         1         0  \n",
       "713           0           1         1         0         1  \n",
       "330           1           0         0         0         1  \n",
       "200           0           1         1         0         1  "
      ]
     },
     "execution_count": 40,
     "metadata": {},
     "output_type": "execute_result"
    }
   ],
   "source": [
    "data_train.sample(5)"
   ]
  },
  {
   "cell_type": "code",
   "execution_count": 41,
   "metadata": {},
   "outputs": [
    {
     "data": {
      "text/html": [
       "<div>\n",
       "<style scoped>\n",
       "    .dataframe tbody tr th:only-of-type {\n",
       "        vertical-align: middle;\n",
       "    }\n",
       "\n",
       "    .dataframe tbody tr th {\n",
       "        vertical-align: top;\n",
       "    }\n",
       "\n",
       "    .dataframe thead th {\n",
       "        text-align: right;\n",
       "    }\n",
       "</style>\n",
       "<table border=\"1\" class=\"dataframe\">\n",
       "  <thead>\n",
       "    <tr style=\"text-align: right;\">\n",
       "      <th></th>\n",
       "      <th>Fare</th>\n",
       "      <th>Embarked</th>\n",
       "      <th>Age</th>\n",
       "      <th>SibSp</th>\n",
       "      <th>Parch</th>\n",
       "      <th>Sex</th>\n",
       "      <th>Pclass</th>\n",
       "      <th>Embarked_Q</th>\n",
       "      <th>Embarked_S</th>\n",
       "      <th>Sex_male</th>\n",
       "      <th>Pclass_2</th>\n",
       "      <th>Pclass_3</th>\n",
       "    </tr>\n",
       "  </thead>\n",
       "  <tbody>\n",
       "    <tr>\n",
       "      <th>300</th>\n",
       "      <td>7.775</td>\n",
       "      <td>S</td>\n",
       "      <td>32.0</td>\n",
       "      <td>0</td>\n",
       "      <td>0</td>\n",
       "      <td>male</td>\n",
       "      <td>3</td>\n",
       "      <td>0</td>\n",
       "      <td>1</td>\n",
       "      <td>1</td>\n",
       "      <td>0</td>\n",
       "      <td>1</td>\n",
       "    </tr>\n",
       "    <tr>\n",
       "      <th>97</th>\n",
       "      <td>7.925</td>\n",
       "      <td>S</td>\n",
       "      <td>29.0</td>\n",
       "      <td>0</td>\n",
       "      <td>0</td>\n",
       "      <td>male</td>\n",
       "      <td>3</td>\n",
       "      <td>0</td>\n",
       "      <td>1</td>\n",
       "      <td>1</td>\n",
       "      <td>0</td>\n",
       "      <td>1</td>\n",
       "    </tr>\n",
       "    <tr>\n",
       "      <th>197</th>\n",
       "      <td>7.775</td>\n",
       "      <td>S</td>\n",
       "      <td>18.0</td>\n",
       "      <td>0</td>\n",
       "      <td>0</td>\n",
       "      <td>female</td>\n",
       "      <td>3</td>\n",
       "      <td>0</td>\n",
       "      <td>1</td>\n",
       "      <td>0</td>\n",
       "      <td>0</td>\n",
       "      <td>1</td>\n",
       "    </tr>\n",
       "    <tr>\n",
       "      <th>182</th>\n",
       "      <td>53.100</td>\n",
       "      <td>S</td>\n",
       "      <td>18.0</td>\n",
       "      <td>1</td>\n",
       "      <td>0</td>\n",
       "      <td>female</td>\n",
       "      <td>1</td>\n",
       "      <td>0</td>\n",
       "      <td>1</td>\n",
       "      <td>0</td>\n",
       "      <td>0</td>\n",
       "      <td>0</td>\n",
       "    </tr>\n",
       "    <tr>\n",
       "      <th>398</th>\n",
       "      <td>7.775</td>\n",
       "      <td>S</td>\n",
       "      <td>22.0</td>\n",
       "      <td>0</td>\n",
       "      <td>0</td>\n",
       "      <td>male</td>\n",
       "      <td>3</td>\n",
       "      <td>0</td>\n",
       "      <td>1</td>\n",
       "      <td>1</td>\n",
       "      <td>0</td>\n",
       "      <td>1</td>\n",
       "    </tr>\n",
       "  </tbody>\n",
       "</table>\n",
       "</div>"
      ],
      "text/plain": [
       "       Fare Embarked   Age  SibSp  Parch     Sex  Pclass  Embarked_Q  \\\n",
       "300   7.775        S  32.0      0      0    male       3           0   \n",
       "97    7.925        S  29.0      0      0    male       3           0   \n",
       "197   7.775        S  18.0      0      0  female       3           0   \n",
       "182  53.100        S  18.0      1      0  female       1           0   \n",
       "398   7.775        S  22.0      0      0    male       3           0   \n",
       "\n",
       "     Embarked_S  Sex_male  Pclass_2  Pclass_3  \n",
       "300           1         1         0         1  \n",
       "97            1         1         0         1  \n",
       "197           1         0         0         1  \n",
       "182           1         0         0         0  \n",
       "398           1         1         0         1  "
      ]
     },
     "execution_count": 41,
     "metadata": {},
     "output_type": "execute_result"
    }
   ],
   "source": [
    "data_test.sample(5)"
   ]
  },
  {
   "cell_type": "markdown",
   "metadata": {},
   "source": [
    "## 2.Prediction\n"
   ]
  },
  {
   "cell_type": "markdown",
   "metadata": {},
   "source": [
    "######  Fonction de coût \n",
    "\n",
    "Nous allons utiliser l'**accuracy score.** comme mesure de performance. (https://scikit-learn.org/stable/modules/generated/sklearn.metrics.accuracy_score.html)"
   ]
  },
  {
   "cell_type": "markdown",
   "metadata": {},
   "source": [
    "######  Définition des ensembles de training et validation"
   ]
  },
  {
   "cell_type": "code",
   "execution_count": 42,
   "metadata": {},
   "outputs": [
    {
     "name": "stdout",
     "output_type": "stream",
     "text": [
      " features: ['Fare', 'Embarked', 'Age', 'SibSp', 'Parch', 'Sex', 'Pclass', 'Embarked_Q', 'Embarked_S', 'Sex_male', 'Pclass_2', 'Pclass_3'], target: Survived\n"
     ]
    }
   ],
   "source": [
    "features = list(data_test.columns)\n",
    "target = 'Survived'\n",
    "\n",
    "print(\" features: %s, target: %s\"%(features, target))"
   ]
  },
  {
   "cell_type": "code",
   "execution_count": 43,
   "metadata": {},
   "outputs": [],
   "source": [
    "X_train, X_val, y_train, y_val = train_test_split(data_train[features], \n",
    "                                                    data_train[target], \n",
    "                                                    test_size=0.2, \n",
    "                                                    random_state=random_state,\n",
    "                                                    stratify = data_train[target] \n",
    "                                                   )"
   ]
  },
  {
   "cell_type": "code",
   "execution_count": 44,
   "metadata": {},
   "outputs": [
    {
     "data": {
      "text/plain": [
       "0    439\n",
       "1    273\n",
       "Name: Survived, dtype: int64"
      ]
     },
     "execution_count": 44,
     "metadata": {},
     "output_type": "execute_result"
    }
   ],
   "source": [
    "y_train.value_counts()"
   ]
  },
  {
   "cell_type": "code",
   "execution_count": 45,
   "metadata": {},
   "outputs": [
    {
     "data": {
      "text/plain": [
       "0    110\n",
       "1     69\n",
       "Name: Survived, dtype: int64"
      ]
     },
     "execution_count": 45,
     "metadata": {},
     "output_type": "execute_result"
    }
   ],
   "source": [
    "y_val.value_counts()"
   ]
  },
  {
   "cell_type": "markdown",
   "metadata": {},
   "source": [
    "#### 1. Use the Regression Line to predict values for some variables. Compute the error."
   ]
  },
  {
   "cell_type": "code",
   "execution_count": 46,
   "metadata": {},
   "outputs": [
    {
     "name": "stdout",
     "output_type": "stream",
     "text": [
      "Train error = 0.8006\n",
      "Validation error  = 0.8156\n"
     ]
    }
   ],
   "source": [
    "regrLogistic = LogisticRegression()\n",
    "\n",
    "# on garde les variables catégorielles: Embarked, Sex  (on garde Pclass car c'est une variable numérique)\n",
    "some_variables = [\"Age\", \"SibSp\", \"Fare\", \"Parch\", \"Pclass\", \"Embarked_Q\", \"Embarked_S\", \"Sex_male\"]\n",
    "\n",
    "regrLogistic.fit(X_train[some_variables], y_train)\n",
    "\n",
    "print('Train error =', round(accuracy_score(y_train, regrLogistic.predict(X_train[some_variables])), 4))\n",
    "print('Validation error  =', round(accuracy_score(y_val, regrLogistic.predict(X_val[some_variables])), 4))"
   ]
  },
  {
   "cell_type": "code",
   "execution_count": 47,
   "metadata": {},
   "outputs": [
    {
     "name": "stdout",
     "output_type": "stream",
     "text": [
      "Train error = 0.8132\n",
      "Validation error  = 0.8045\n"
     ]
    }
   ],
   "source": [
    "regrLogistic = LogisticRegression()\n",
    "\n",
    "# On enlève les variables catégorielles: Embarked, Sex et Pclass\n",
    "some_variables = [\"Age\", \"SibSp\", \"Fare\", \"Parch\", \"Embarked_Q\", \"Embarked_S\", \"Sex_male\", \"Pclass_2\", \"Pclass_3\"]\n",
    "\n",
    "regrLogistic.fit(X_train[some_variables], y_train)\n",
    "\n",
    "print('Train error =', round(accuracy_score(y_train, regrLogistic.predict(X_train[some_variables])), 4))\n",
    "print('Validation error  =', round(accuracy_score(y_val, regrLogistic.predict(X_val[some_variables])), 4))"
   ]
  },
  {
   "cell_type": "code",
   "execution_count": null,
   "metadata": {},
   "outputs": [],
   "source": []
  },
  {
   "cell_type": "markdown",
   "metadata": {},
   "source": [
    "#### 2. Use a machine learning method in order to predict the class of a new set of objects. \n",
    "\n",
    "You can use the methods as K-Nearest Neighbours (K-NN), Support Vector Machine (SVM), Decision trees, Neural Networks … \n",
    "\n",
    "The obtained results should be validated using some external indexes as Prediction Error or others. \n",
    "\n",
    "Explain how the hyper-parameters are fixed and use Cros Valdiation. "
   ]
  },
  {
   "cell_type": "code",
   "execution_count": 48,
   "metadata": {},
   "outputs": [],
   "source": [
    "## définissons les algorithmes que nous souhaitons tester\n",
    "\n",
    "names = [\n",
    "    \"SVC\",\n",
    "    \"LogisticRegression\",\n",
    "    \"RandomForestClassifier\",\n",
    "    \"DecisionTreeClassifier\",\n",
    "    \"KNeighborsClassifier\",\n",
    "    \"MLPClassifier\",\n",
    "        ]\n",
    "\n",
    "models = [\n",
    "    SVC(),\n",
    "    LogisticRegression(),\n",
    "    RandomForestClassifier(n_jobs=-1, random_state=random_state),\n",
    "    DecisionTreeClassifier(random_state=random_state),\n",
    "    KNeighborsClassifier(),\n",
    "    MLPClassifier(),\n",
    "    ]"
   ]
  },
  {
   "cell_type": "code",
   "execution_count": 49,
   "metadata": {},
   "outputs": [],
   "source": [
    "## Evaluons les différents algos envalidation croisée sur X_train avec certains features\n",
    "\n",
    "def evaluation_model(X, Y, models, num_folds = 3, seed = 42, scoring = None):\n",
    "    \"\"\" cette fonction permet de calculer les performances de différents algorithmes\n",
    "    - X: Matrice des données\n",
    "    - y: vecteur des classes\n",
    "    - models: ensemble de modèle\n",
    "    - num_folds: nombre de fold pour la cross-val\n",
    "    - seed: racine pour la reproductivité des resultats\n",
    "    \"\"\"\n",
    "    \n",
    "    num_instances = len(X)\n",
    "    results = []\n",
    "    names = []\n",
    "    \n",
    "    kfold = StratifiedKFold(n_splits=num_folds, random_state=seed, shuffle=True)\n",
    "        \n",
    "    for name, model in models:\n",
    "        #print(name)\n",
    "        cv_results = cross_val_score(model, X, Y, cv=kfold, scoring=scoring, verbose = 0, n_jobs = -1)\n",
    "#         print(cv_results)\n",
    "        results.append(cv_results)\n",
    "        names.append(name)\n",
    "        msg = \"%s: Precision mean %f Precison std (%f)\" % (name, cv_results.mean(), cv_results.std())\n",
    "        print(msg)\n",
    "#         print(cv_results)\n",
    "    # boxplot algorithm comparison\n",
    "    fig = plt.figure(figsize=(8,4))\n",
    "    fig.suptitle('Algorithm Comparison')\n",
    "    ax = fig.add_subplot(111)\n",
    "    plt.boxplot(results)\n",
    "    ax.set_xticklabels(names, rotation='vertical')\n",
    "    plt.show()\n"
   ]
  },
  {
   "cell_type": "code",
   "execution_count": 50,
   "metadata": {},
   "outputs": [
    {
     "name": "stdout",
     "output_type": "stream",
     "text": [
      "SVC: Precision mean 0.662890 Precison std (0.017771)\n",
      "LogisticRegression: Precision mean 0.793515 Precison std (0.021172)\n",
      "RandomForestClassifier: Precision mean 0.801912 Precison std (0.031282)\n",
      "DecisionTreeClassifier: Precision mean 0.779421 Precison std (0.040238)\n",
      "KNeighborsClassifier: Precision mean 0.693815 Precison std (0.007361)\n",
      "MLPClassifier: Precision mean 0.785070 Precison std (0.036183)\n"
     ]
    },
    {
     "data": {
      "image/png": "[encoded data removed]",
      "text/plain": [
       "<Figure size 576x288 with 1 Axes>"
      ]
     },
     "metadata": {
      "needs_background": "light"
     },
     "output_type": "display_data"
    }
   ],
   "source": [
    "    \n",
    "some_variables = [\"Age\", \"SibSp\", \"Fare\", \"Parch\", \"Pclass\", \"Embarked_Q\", \"Embarked_S\", \"Sex_male\"]\n",
    "\n",
    "evaluation_model(X_train[some_variables], \n",
    "                 y_train, \n",
    "                 models = list(zip(names, models)), \n",
    "                 num_folds = 3, \n",
    "                 seed = random_state,\n",
    "                 scoring=\"accuracy\")"
   ]
  },
  {
   "cell_type": "code",
   "execution_count": 51,
   "metadata": {},
   "outputs": [
    {
     "name": "stdout",
     "output_type": "stream",
     "text": [
      "SVC: Precision mean 0.662890 Precison std (0.017771)\n",
      "LogisticRegression: Precision mean 0.807574 Precison std (0.013188)\n",
      "RandomForestClassifier: Precision mean 0.806126 Precison std (0.031274)\n",
      "DecisionTreeClassifier: Precision mean 0.772388 Precison std (0.043354)\n",
      "KNeighborsClassifier: Precision mean 0.692409 Precison std (0.009329)\n",
      "MLPClassifier: Precision mean 0.786465 Precison std (0.035616)\n"
     ]
    },
    {
     "data": {
      "image/png": "[encoded data removed]",
      "text/plain": [
       "<Figure size 576x288 with 1 Axes>"
      ]
     },
     "metadata": {
      "needs_background": "light"
     },
     "output_type": "display_data"
    }
   ],
   "source": [
    "\n",
    "some_variables = [\"Age\", \"SibSp\", \"Fare\", \"Parch\", \"Embarked_Q\", \"Embarked_S\", \"Sex_male\", \"Pclass_2\", \"Pclass_3\"]\n",
    "\n",
    "evaluation_model(X_train[some_variables], \n",
    "                 y_train, \n",
    "                 models = list(zip(names, models)), \n",
    "                 num_folds = 3, \n",
    "                 seed = random_state,\n",
    "                 scoring=\"accuracy\")"
   ]
  },
  {
   "cell_type": "markdown",
   "metadata": {},
   "source": [
    "LogisticRegression(), RandomForestClassifier() et MLPClassifier() donnent de meilleurs résultats"
   ]
  },
  {
   "cell_type": "code",
   "execution_count": 52,
   "metadata": {},
   "outputs": [],
   "source": [
    "## feature importances\n",
    "\n",
    "def featureImportances(X_train, y_train, features, estimator = RandomForestClassifier(n_estimators=100)):\n",
    "    \n",
    "    estimator.fit(X_train[features], y_train)\n",
    "\n",
    "    # Calculate the feature ranking\n",
    "    importances = estimator.feature_importances_ \n",
    "    std = np.std([tree.feature_importances_ for tree in estimator.estimators_],\n",
    "                 axis=0)\n",
    "\n",
    "    nb_feat = len(features)\n",
    "\n",
    "    indices = np.argsort(importances)[::-1][:nb_feat]\n",
    "\n",
    "    for f in range(nb_feat):\n",
    "        print(\"%d. %s (%f)\" % (f + 1, features[indices[f]], importances[indices[f]]))\n",
    "\n",
    "    #Plot the feature importances of the forest\n",
    "    indices=indices[:nb_feat]\n",
    "    plt.figure(figsize=(8,4))\n",
    "    plt.title(\"Top Feature importances\")\n",
    "    plt.bar(range(nb_feat), importances[indices],\n",
    "           color=\"r\", yerr=std[indices], align=\"center\")\n",
    "    plt.xticks(range(nb_feat), np.array(features)[indices.tolist()], rotation=90)\n",
    "\n",
    "    plt.xlim([-1, nb_feat])\n",
    "    plt.show()\n",
    "\n",
    "    #Mean Feature Importance\n",
    "    print (\"Mean Feature Importance %.6f\" %np.mean(importances))\n"
   ]
  },
  {
   "cell_type": "code",
   "execution_count": 53,
   "metadata": {},
   "outputs": [
    {
     "name": "stdout",
     "output_type": "stream",
     "text": [
      "1. Fare (0.270707)\n",
      "2. Age (0.267134)\n",
      "3. Sex_male (0.250637)\n",
      "4. Pclass (0.090421)\n",
      "5. SibSp (0.047314)\n",
      "6. Parch (0.037947)\n",
      "7. Embarked_S (0.024730)\n",
      "8. Embarked_Q (0.011110)\n"
     ]
    },
    {
     "data": {
      "image/png": "[encoded data removed]",
      "text/plain": [
       "<Figure size 576x288 with 1 Axes>"
      ]
     },
     "metadata": {
      "needs_background": "light"
     },
     "output_type": "display_data"
    },
    {
     "name": "stdout",
     "output_type": "stream",
     "text": [
      "Mean Feature Importance 0.125000\n"
     ]
    }
   ],
   "source": [
    "    \n",
    "some_variables = [\"Age\", \"SibSp\", \"Fare\", \"Parch\", \"Pclass\", \"Embarked_Q\", \"Embarked_S\", \"Sex_male\"]\n",
    "# some_variables = [\"Age\", \"SibSp\", \"Fare\", \"Parch\", \"Embarked_Q\", \"Embarked_S\", \"Sex_male\", \"Pclass_2\", \"Pclass_3\"]\n",
    "    \n",
    "featureImportances(X_train[some_variables], y_train, some_variables)"
   ]
  },
  {
   "cell_type": "code",
   "execution_count": 54,
   "metadata": {},
   "outputs": [
    {
     "name": "stdout",
     "output_type": "stream",
     "text": [
      "1. Fare (0.267255)\n",
      "2. Sex_male (0.262387)\n",
      "3. Age (0.261355)\n",
      "4. Pclass_3 (0.073814)\n",
      "5. SibSp (0.043720)\n",
      "6. Parch (0.035862)\n",
      "7. Embarked_S (0.023876)\n",
      "8. Pclass_2 (0.018622)\n",
      "9. Embarked_Q (0.013110)\n"
     ]
    },
    {
     "data": {
      "image/png": "[encoded data removed]",
      "text/plain": [
       "<Figure size 576x288 with 1 Axes>"
      ]
     },
     "metadata": {
      "needs_background": "light"
     },
     "output_type": "display_data"
    },
    {
     "name": "stdout",
     "output_type": "stream",
     "text": [
      "Mean Feature Importance 0.111111\n"
     ]
    }
   ],
   "source": [
    "    \n",
    "some_variables = [\"Age\", \"SibSp\", \"Fare\", \"Parch\", \"Embarked_Q\", \"Embarked_S\", \"Sex_male\", \"Pclass_2\", \"Pclass_3\"]\n",
    "    \n",
    "featureImportances(X_train[some_variables], y_train, some_variables)"
   ]
  },
  {
   "cell_type": "markdown",
   "metadata": {},
   "source": [
    "###### Création du Pipeline de prédiction\n",
    "\n",
    "Notre Pipeline aura 2 étages:\n",
    "\n",
    "- Prétraitement (Scaling, etc...)\n",
    "- Prédiction\n",
    "\n"
   ]
  },
  {
   "cell_type": "code",
   "execution_count": 55,
   "metadata": {},
   "outputs": [],
   "source": [
    "# Cette classe va nous permettre de sélectionner des features\n",
    "from sklearn.base import BaseEstimator, TransformerMixin\n",
    "from sklearn.preprocessing import PolynomialFeatures\n",
    "\n",
    "class FeatureSelector(BaseEstimator, TransformerMixin):\n",
    "   \n",
    "    def __init__(self, key):\n",
    "        self.key = key\n",
    "\n",
    "    def fit(self, x, y=None):\n",
    "        return self\n",
    "\n",
    "    def transform(self, data_dict):\n",
    "        return data_dict[self.key]\n",
    "    \n",
    "# # Cette classe va nous permettre de créer des combinaisons de features\n",
    "# class PolynomialeSelector(BaseEstimator, TransformerMixin):\n",
    "   \n",
    "#     def __init__(self, key, degree=2, interaction_only=False, include_bias=True):\n",
    "#         self.key = key\n",
    "#         self.degree = degree\n",
    "#         self.interaction_only = interaction_only\n",
    "#         self.include_bias = include_bias\n",
    "\n",
    "#     def fit(self, x, y=None):\n",
    "#         return self\n",
    "\n",
    "#     def transform(self, data):\n",
    "#         data = data[self.key]\n",
    "#         poly = PolynomialFeatures(self.degree, self.interaction_only, self.include_bias)\n",
    "#         data_dict_poly = poly.fit_transform(data)\n",
    "#         data_dict_poly = pd.DataFrame(data_dict_poly, columns=poly.get_feature_names(data.columns))\n",
    "#         poly_features = list(set(data_dict_poly.columns) -set(data.columns))\n",
    "#         return data_dict_poly[poly_features]"
   ]
  },
  {
   "cell_type": "code",
   "execution_count": 56,
   "metadata": {},
   "outputs": [
    {
     "data": {
      "text/html": [
       "<div>\n",
       "<style scoped>\n",
       "    .dataframe tbody tr th:only-of-type {\n",
       "        vertical-align: middle;\n",
       "    }\n",
       "\n",
       "    .dataframe tbody tr th {\n",
       "        vertical-align: top;\n",
       "    }\n",
       "\n",
       "    .dataframe thead th {\n",
       "        text-align: right;\n",
       "    }\n",
       "</style>\n",
       "<table border=\"1\" class=\"dataframe\">\n",
       "  <thead>\n",
       "    <tr style=\"text-align: right;\">\n",
       "      <th></th>\n",
       "      <th>Age</th>\n",
       "      <th>Fare</th>\n",
       "      <th>Pclass</th>\n",
       "    </tr>\n",
       "  </thead>\n",
       "  <tbody>\n",
       "    <tr>\n",
       "      <th>306</th>\n",
       "      <td>29.699118</td>\n",
       "      <td>110.8833</td>\n",
       "      <td>1</td>\n",
       "    </tr>\n",
       "    <tr>\n",
       "      <th>313</th>\n",
       "      <td>28.000000</td>\n",
       "      <td>7.8958</td>\n",
       "      <td>3</td>\n",
       "    </tr>\n",
       "    <tr>\n",
       "      <th>717</th>\n",
       "      <td>27.000000</td>\n",
       "      <td>10.5000</td>\n",
       "      <td>2</td>\n",
       "    </tr>\n",
       "    <tr>\n",
       "      <th>274</th>\n",
       "      <td>29.699118</td>\n",
       "      <td>7.7500</td>\n",
       "      <td>3</td>\n",
       "    </tr>\n",
       "    <tr>\n",
       "      <th>720</th>\n",
       "      <td>6.000000</td>\n",
       "      <td>33.0000</td>\n",
       "      <td>2</td>\n",
       "    </tr>\n",
       "  </tbody>\n",
       "</table>\n",
       "</div>"
      ],
      "text/plain": [
       "           Age      Fare  Pclass\n",
       "306  29.699118  110.8833       1\n",
       "313  28.000000    7.8958       3\n",
       "717  27.000000   10.5000       2\n",
       "274  29.699118    7.7500       3\n",
       "720   6.000000   33.0000       2"
      ]
     },
     "execution_count": 56,
     "metadata": {},
     "output_type": "execute_result"
    }
   ],
   "source": [
    "key_selector = [\"Age\", \"Fare\", \"Pclass\"]\n",
    "\n",
    "featureSelector = FeatureSelector(key=key_selector)\n",
    "\n",
    "X_train_transformed = featureSelector.transform(X_train)\n",
    "X_train_transformed.head()"
   ]
  },
  {
   "cell_type": "code",
   "execution_count": 57,
   "metadata": {},
   "outputs": [
    {
     "data": {
      "text/html": [
       "<div>\n",
       "<style scoped>\n",
       "    .dataframe tbody tr th:only-of-type {\n",
       "        vertical-align: middle;\n",
       "    }\n",
       "\n",
       "    .dataframe tbody tr th {\n",
       "        vertical-align: top;\n",
       "    }\n",
       "\n",
       "    .dataframe thead th {\n",
       "        text-align: right;\n",
       "    }\n",
       "</style>\n",
       "<table border=\"1\" class=\"dataframe\">\n",
       "  <thead>\n",
       "    <tr style=\"text-align: right;\">\n",
       "      <th></th>\n",
       "      <th>Fare</th>\n",
       "      <th>Embarked</th>\n",
       "      <th>Age</th>\n",
       "      <th>SibSp</th>\n",
       "      <th>Parch</th>\n",
       "      <th>Sex</th>\n",
       "      <th>Pclass</th>\n",
       "      <th>Embarked_Q</th>\n",
       "      <th>Embarked_S</th>\n",
       "      <th>Sex_male</th>\n",
       "      <th>Pclass_2</th>\n",
       "      <th>Pclass_3</th>\n",
       "    </tr>\n",
       "  </thead>\n",
       "  <tbody>\n",
       "    <tr>\n",
       "      <th>306</th>\n",
       "      <td>110.8833</td>\n",
       "      <td>C</td>\n",
       "      <td>29.699118</td>\n",
       "      <td>0</td>\n",
       "      <td>0</td>\n",
       "      <td>female</td>\n",
       "      <td>1</td>\n",
       "      <td>0</td>\n",
       "      <td>0</td>\n",
       "      <td>0</td>\n",
       "      <td>0</td>\n",
       "      <td>0</td>\n",
       "    </tr>\n",
       "    <tr>\n",
       "      <th>313</th>\n",
       "      <td>7.8958</td>\n",
       "      <td>S</td>\n",
       "      <td>28.000000</td>\n",
       "      <td>0</td>\n",
       "      <td>0</td>\n",
       "      <td>male</td>\n",
       "      <td>3</td>\n",
       "      <td>0</td>\n",
       "      <td>1</td>\n",
       "      <td>1</td>\n",
       "      <td>0</td>\n",
       "      <td>1</td>\n",
       "    </tr>\n",
       "    <tr>\n",
       "      <th>717</th>\n",
       "      <td>10.5000</td>\n",
       "      <td>S</td>\n",
       "      <td>27.000000</td>\n",
       "      <td>0</td>\n",
       "      <td>0</td>\n",
       "      <td>female</td>\n",
       "      <td>2</td>\n",
       "      <td>0</td>\n",
       "      <td>1</td>\n",
       "      <td>0</td>\n",
       "      <td>1</td>\n",
       "      <td>0</td>\n",
       "    </tr>\n",
       "    <tr>\n",
       "      <th>274</th>\n",
       "      <td>7.7500</td>\n",
       "      <td>Q</td>\n",
       "      <td>29.699118</td>\n",
       "      <td>0</td>\n",
       "      <td>0</td>\n",
       "      <td>female</td>\n",
       "      <td>3</td>\n",
       "      <td>1</td>\n",
       "      <td>0</td>\n",
       "      <td>0</td>\n",
       "      <td>0</td>\n",
       "      <td>1</td>\n",
       "    </tr>\n",
       "    <tr>\n",
       "      <th>720</th>\n",
       "      <td>33.0000</td>\n",
       "      <td>S</td>\n",
       "      <td>6.000000</td>\n",
       "      <td>0</td>\n",
       "      <td>1</td>\n",
       "      <td>female</td>\n",
       "      <td>2</td>\n",
       "      <td>0</td>\n",
       "      <td>1</td>\n",
       "      <td>0</td>\n",
       "      <td>1</td>\n",
       "      <td>0</td>\n",
       "    </tr>\n",
       "  </tbody>\n",
       "</table>\n",
       "</div>"
      ],
      "text/plain": [
       "         Fare Embarked        Age  SibSp  Parch     Sex  Pclass  Embarked_Q  \\\n",
       "306  110.8833        C  29.699118      0      0  female       1           0   \n",
       "313    7.8958        S  28.000000      0      0    male       3           0   \n",
       "717   10.5000        S  27.000000      0      0  female       2           0   \n",
       "274    7.7500        Q  29.699118      0      0  female       3           1   \n",
       "720   33.0000        S   6.000000      0      1  female       2           0   \n",
       "\n",
       "     Embarked_S  Sex_male  Pclass_2  Pclass_3  \n",
       "306           0         0         0         0  \n",
       "313           1         1         0         1  \n",
       "717           1         0         1         0  \n",
       "274           0         0         0         1  \n",
       "720           1         0         1         0  "
      ]
     },
     "execution_count": 57,
     "metadata": {},
     "output_type": "execute_result"
    }
   ],
   "source": [
    "X_train.head()"
   ]
  },
  {
   "cell_type": "code",
   "execution_count": 58,
   "metadata": {},
   "outputs": [],
   "source": [
    "# key_poly = [\"Age\", \"Fare\"]\n",
    "\n",
    "# polynomialeSelector = PolynomialeSelector(key=key_poly, degree=2, interaction_only=False, include_bias=True)\n",
    "\n",
    "# X_train_transformed = polynomialeSelector.transform(X_train)\n",
    "# X_train_transformed.head()"
   ]
  },
  {
   "cell_type": "code",
   "execution_count": 59,
   "metadata": {},
   "outputs": [
    {
     "data": {
      "text/html": [
       "<div>\n",
       "<style scoped>\n",
       "    .dataframe tbody tr th:only-of-type {\n",
       "        vertical-align: middle;\n",
       "    }\n",
       "\n",
       "    .dataframe tbody tr th {\n",
       "        vertical-align: top;\n",
       "    }\n",
       "\n",
       "    .dataframe thead th {\n",
       "        text-align: right;\n",
       "    }\n",
       "</style>\n",
       "<table border=\"1\" class=\"dataframe\">\n",
       "  <thead>\n",
       "    <tr style=\"text-align: right;\">\n",
       "      <th></th>\n",
       "      <th>0</th>\n",
       "      <th>1</th>\n",
       "      <th>2</th>\n",
       "    </tr>\n",
       "  </thead>\n",
       "  <tbody>\n",
       "    <tr>\n",
       "      <th>0</th>\n",
       "      <td>29.699118</td>\n",
       "      <td>110.8833</td>\n",
       "      <td>1.0</td>\n",
       "    </tr>\n",
       "    <tr>\n",
       "      <th>1</th>\n",
       "      <td>28.000000</td>\n",
       "      <td>7.8958</td>\n",
       "      <td>3.0</td>\n",
       "    </tr>\n",
       "    <tr>\n",
       "      <th>2</th>\n",
       "      <td>27.000000</td>\n",
       "      <td>10.5000</td>\n",
       "      <td>2.0</td>\n",
       "    </tr>\n",
       "    <tr>\n",
       "      <th>3</th>\n",
       "      <td>29.699118</td>\n",
       "      <td>7.7500</td>\n",
       "      <td>3.0</td>\n",
       "    </tr>\n",
       "    <tr>\n",
       "      <th>4</th>\n",
       "      <td>6.000000</td>\n",
       "      <td>33.0000</td>\n",
       "      <td>2.0</td>\n",
       "    </tr>\n",
       "  </tbody>\n",
       "</table>\n",
       "</div>"
      ],
      "text/plain": [
       "           0         1    2\n",
       "0  29.699118  110.8833  1.0\n",
       "1  28.000000    7.8958  3.0\n",
       "2  27.000000   10.5000  2.0\n",
       "3  29.699118    7.7500  3.0\n",
       "4   6.000000   33.0000  2.0"
      ]
     },
     "execution_count": 59,
     "metadata": {},
     "output_type": "execute_result"
    }
   ],
   "source": [
    "# test de la combinaison entre FeatureSelector et PolynomialeSelector\n",
    "\n",
    "fu = FeatureUnion(\n",
    "        transformer_list=[\n",
    "\n",
    "#             basic features\n",
    "            ('basic_features', Pipeline([\n",
    "                ('features', FeatureSelector(key=key_selector)),\n",
    "            ])),\n",
    "\n",
    "#             others features\n",
    "#             ('polynomial_features', Pipeline([\n",
    "#                 ('features', PolynomialeSelector(key=key_poly, degree=2, interaction_only=False, include_bias=True)),\n",
    "#             ])),\n",
    "        ],\n",
    "\n",
    "        # poids des composants du FeatureUnion\n",
    "        transformer_weights={\n",
    "            'basic_features': 1.0, # 1.0\n",
    "#             'polynomial_features': 1.0, #  0.83\n",
    "        },\n",
    "    )\n",
    "X_train_transformed = fu.fit_transform(X_train)\n",
    "pd.DataFrame(X_train_transformed).head()"
   ]
  },
  {
   "cell_type": "markdown",
   "metadata": {},
   "source": [
    "###### LogisticRegression hyper-parameters Optim"
   ]
  },
  {
   "cell_type": "code",
   "execution_count": 60,
   "metadata": {},
   "outputs": [],
   "source": [
    "\n",
    "pipeline = Pipeline([\n",
    "\n",
    "    # Utilisation de FeatureUnion afin de combiner les tickers\n",
    "    ('union', FeatureUnion(\n",
    "        transformer_list=[\n",
    "            \n",
    "            ('basic_features', Pipeline([\n",
    "                ('features', FeatureSelector(key=[\"Age\", \"Fare\", \"Pclass\", \"Sex_male\"])),\n",
    "            ])),\n",
    "\n",
    "        ],\n",
    "\n",
    "        # poids des composants du FeatureUnion\n",
    "        transformer_weights={\n",
    "            'basic_features': 1.0, # 1.0\n",
    "        },\n",
    "    )),\n",
    "    \n",
    "    # etape de prétraitement\n",
    "    ('preProcessingML',StandardScaler(with_mean=True)) , # FunctionTransformer()\n",
    "\n",
    "    ('Classifier', LogisticRegression(penalty='l2', \n",
    "                                      tol=0.0001, \n",
    "                                      C=1.0, \n",
    "                                      fit_intercept=True, \n",
    "                                      random_state=random_state,\n",
    "                                      solver='lbfgs',\n",
    "                                      max_iter=100, \n",
    "                                      n_jobs=-1, \n",
    "#                                       l1_ratio=None\n",
    "                                     )\n",
    "    ),\n",
    "])\n",
    "##########################################################################################################\"\"\n",
    "\n",
    "param_grid_1 = dict(\n",
    "#\n",
    "                       union__basic_features__features__key=[\n",
    "                                                                [\"Age\", \"Fare\", \"Pclass\", \"Sex_male\"],\n",
    "                                                                [\"Age\", \"Fare\", \"Sex_male\", \"Pclass_2\", \"Pclass_3\"],\n",
    "                                                                [\"Age\", \"SibSp\", \"Fare\", \"Parch\", \"Pclass\", \"Embarked_Q\", \"Embarked_S\", \"Sex_male\"],\n",
    "                                                                [\"Age\", \"SibSp\", \"Fare\", \"Parch\", \"Embarked_Q\", \"Embarked_S\", \"Sex_male\", \"Pclass_2\", \"Pclass_3\"]\n",
    "                                                               ],\n",
    "    \n",
    "    \n",
    "                       preProcessingML = [\n",
    "                                          None,\n",
    "                                         Normalizer(norm='l2'), \n",
    "                                         Normalizer(norm='l1'),\n",
    "                                         MaxAbsScaler(),\n",
    "                                         MinMaxScaler(),\n",
    "                                         RobustScaler(),\n",
    "                                         StandardScaler(with_mean=True)\n",
    "                                         ],\n",
    "    \n",
    "                   Classifier__penalty = ['elasticnet'], # \n",
    "                   Classifier__solver = ['saga'], #  \n",
    "                   Classifier__tol = [0.001, 0.0001, 0.00001], #  \n",
    "                   Classifier__C = [0.7, 1.0, 1.5], #  \n",
    "#                    Classifier__l1_ratio = [0, 0.3, 0.5, 0.7, 1], #\n",
    "                )\n",
    "\n",
    "\n",
    "\n",
    "param_grid_2 = dict(\n",
    "#\n",
    "                       union__basic_features__features__key=[\n",
    "                                                                [\"Age\", \"Fare\", \"Pclass\", \"Sex_male\"],\n",
    "                                                                [\"Age\", \"Fare\", \"Sex_male\" , \"Pclass_2\", \"Pclass_3\"],\n",
    "                                                                [\"Age\", \"SibSp\", \"Fare\", \"Parch\", \"Pclass\", \"Embarked_Q\", \"Embarked_S\", \"Sex_male\"],\n",
    "                                                                [\"Age\", \"SibSp\", \"Fare\", \"Parch\", \"Embarked_Q\", \"Embarked_S\", \"Sex_male\", \"Pclass_2\", \"Pclass_3\"]\n",
    "                                                               ],\n",
    "    \n",
    "                       preProcessingML = [\n",
    "                                          None,\n",
    "                                         Normalizer(norm='l2'), \n",
    "                                         Normalizer(norm='l1'),\n",
    "                                         MaxAbsScaler(),\n",
    "                                         MinMaxScaler(),\n",
    "                                         RobustScaler(),\n",
    "                                         StandardScaler(with_mean=True)\n",
    "                                         ],\n",
    "    \n",
    "                   Classifier__penalty = ['l2'], # \n",
    "                   Classifier__solver = ['lbfgs'], #  \n",
    "                   Classifier__tol = [0.001, 0.0001, 0.00001], #  \n",
    "                   Classifier__C = [0.7, 1.0, 1.5, 5, 10], \n",
    "                )"
   ]
  },
  {
   "cell_type": "code",
   "execution_count": 62,
   "metadata": {},
   "outputs": [
    {
     "data": {
      "text/plain": [
       "'0.22.1'"
      ]
     },
     "execution_count": 62,
     "metadata": {},
     "output_type": "execute_result"
    }
   ],
   "source": [
    "# !pip install -U scikit-learn\n",
    "import sklearn\n",
    "sklearn.__version__"
   ]
  },
  {
   "cell_type": "code",
   "execution_count": 61,
   "metadata": {
    "scrolled": false
   },
   "outputs": [
    {
     "name": "stdout",
     "output_type": "stream",
     "text": [
      "Fitting 5 folds for each of 672 candidates, totalling 3360 fits\n"
     ]
    },
    {
     "name": "stderr",
     "output_type": "stream",
     "text": [
      "[Parallel(n_jobs=-1)]: Using backend LokyBackend with 8 concurrent workers.\n",
      "[Parallel(n_jobs=-1)]: Done  56 tasks      | elapsed:    0.2s\n",
      "[Parallel(n_jobs=-1)]: Done 1696 tasks      | elapsed:   10.0s\n",
      "[Parallel(n_jobs=-1)]: Done 1946 tasks      | elapsed:   14.0s\n",
      "[Parallel(n_jobs=-1)]: Done 2296 tasks      | elapsed:   19.8s\n",
      "[Parallel(n_jobs=-1)]: Done 2746 tasks      | elapsed:   27.2s\n",
      "[Parallel(n_jobs=-1)]: Done 3296 tasks      | elapsed:   36.6s\n",
      "[Parallel(n_jobs=-1)]: Done 3360 out of 3360 | elapsed:   37.6s finished\n"
     ]
    }
   ],
   "source": [
    "n_splits = 5\n",
    "cv = StratifiedKFold(n_splits=n_splits, random_state=random_state, shuffle=True)\n",
    "\n",
    "# grid_search = RandomizedSearchCV(pipeline, param_distributions=param_grid, n_iter=200, verbose=1, scoring =rmsle_scorer, n_jobs=-1, cv=cv, random_state = random_state)\n",
    "grid_search = GridSearchCV(pipeline, \n",
    "                           param_grid=[param_grid_1, param_grid_2], \n",
    "                           verbose=1, \n",
    "                           scoring =\"accuracy\", \n",
    "                           n_jobs=-1, \n",
    "                           cv=cv)\n",
    "\n",
    "grid_search.fit(X_train, y_train)\n",
    "lr_best_estimator = grid_search.best_estimator_"
   ]
  },
  {
   "cell_type": "code",
   "execution_count": null,
   "metadata": {},
   "outputs": [],
   "source": [
    "lr_best_estimator.named_steps['union']"
   ]
  },
  {
   "cell_type": "code",
   "execution_count": null,
   "metadata": {},
   "outputs": [],
   "source": [
    "lr_best_estimator.named_steps['preProcessingML']"
   ]
  },
  {
   "cell_type": "code",
   "execution_count": null,
   "metadata": {},
   "outputs": [],
   "source": [
    "lr_best_estimator.named_steps['Classifier']"
   ]
  },
  {
   "cell_type": "code",
   "execution_count": null,
   "metadata": {},
   "outputs": [],
   "source": [
    "print('Train error =', round(accuracy_score(y_train, lr_best_estimator.predict(X_train)), 4))\n",
    "print('Validation error  =', round(accuracy_score(y_val, lr_best_estimator.predict(X_val)), 4))"
   ]
  },
  {
   "cell_type": "code",
   "execution_count": null,
   "metadata": {},
   "outputs": [],
   "source": [
    "# # # lr_best_estimator\n",
    "# Train error = 0.8062\n",
    "# Validation error  = 0.8101"
   ]
  },
  {
   "cell_type": "markdown",
   "metadata": {},
   "source": [
    "###### KNeighborsClassifier hyper-parameters Optim"
   ]
  },
  {
   "cell_type": "code",
   "execution_count": null,
   "metadata": {},
   "outputs": [],
   "source": [
    "\n",
    "pipeline = Pipeline([\n",
    "\n",
    "    # Utilisation de FeatureUnion afin de combiner les tickers\n",
    "    ('union', FeatureUnion(\n",
    "        transformer_list=[\n",
    "            \n",
    "            ('basic_features', Pipeline([\n",
    "                ('features', FeatureSelector(key=[\"Age\", \"Fare\", \"Pclass\", \"Sex_male\"])),\n",
    "            ])),\n",
    "        ],\n",
    "\n",
    "\n",
    "        # poids des composants du FeatureUnion\n",
    "        transformer_weights={\n",
    "            'basic_features': 1.0, # 1.0\n",
    "        },\n",
    "    )),\n",
    "    \n",
    "    # etape de prétraitement\n",
    "    ('preProcessingML',StandardScaler(with_mean=True)) , # FunctionTransformer()\n",
    "\n",
    "    ('Classifier', KNeighborsClassifier(n_neighbors=5, \n",
    "                                        weights='uniform', \n",
    "                                        p=2,\n",
    "                                        n_jobs=-1)\n",
    "    ),\n",
    "])\n",
    "\n",
    "##########################################################################################################\"\"\n",
    "\n",
    "param_grid_1 = dict(\n",
    "#\n",
    "                       union__basic_features__features__key=[\n",
    "                                                                [\"Age\", \"Fare\", \"Pclass\", \"Sex_male\"],\n",
    "                                                                [\"Age\", \"Fare\", \"Sex_male\" , \"Pclass_2\", \"Pclass_3\"],\n",
    "                                                                [\"Age\", \"SibSp\", \"Fare\", \"Parch\", \"Pclass\", \"Embarked_Q\", \"Embarked_S\", \"Sex_male\"],\n",
    "                                                                [\"Age\", \"SibSp\", \"Fare\", \"Parch\", \"Embarked_Q\", \"Embarked_S\", \"Sex_male\", \"Pclass_2\", \"Pclass_3\"]\n",
    "                                                               ],\n",
    "\n",
    "    \n",
    "    \n",
    "                       preProcessingML = [\n",
    "                                          None,\n",
    "                                         Normalizer(norm='l2'), \n",
    "                                         Normalizer(norm='l1'),\n",
    "                                         MaxAbsScaler(),\n",
    "                                         MinMaxScaler(),\n",
    "                                         RobustScaler(),\n",
    "                                         StandardScaler(with_mean=True)\n",
    "                                         ],\n",
    "    \n",
    "                   Classifier__n_neighbors = [3, 4, 5, 6, 7, 8, 9, 10, 11], # \n",
    "                   Classifier__weights = ['uniform', 'distance'], #  \n",
    "                   Classifier__p = [1, 2], #  \n",
    "                )\n"
   ]
  },
  {
   "cell_type": "code",
   "execution_count": null,
   "metadata": {},
   "outputs": [],
   "source": [
    "n_splits = 5\n",
    "cv = StratifiedKFold(n_splits=n_splits, random_state=random_state, shuffle=True)\n",
    "\n",
    "# grid_search = RandomizedSearchCV(pipeline, param_distributions=param_grid, n_iter=200, verbose=1, scoring =rmsle_scorer, n_jobs=-1, cv=cv, random_state = random_state)\n",
    "\n",
    "grid_search = GridSearchCV(pipeline, \n",
    "                           param_grid=[param_grid_1], \n",
    "                           verbose=1, \n",
    "                           scoring =\"accuracy\", \n",
    "                           n_jobs=-1, \n",
    "                           cv=cv)\n",
    "\n",
    "grid_search.fit(X_train, y_train)\n",
    "knn_best_estimator = grid_search.best_estimator_"
   ]
  },
  {
   "cell_type": "code",
   "execution_count": null,
   "metadata": {},
   "outputs": [],
   "source": [
    "knn_best_estimator.named_steps['union']"
   ]
  },
  {
   "cell_type": "code",
   "execution_count": null,
   "metadata": {},
   "outputs": [],
   "source": [
    "knn_best_estimator.named_steps['preProcessingML']"
   ]
  },
  {
   "cell_type": "code",
   "execution_count": null,
   "metadata": {},
   "outputs": [],
   "source": [
    "knn_best_estimator.named_steps['Classifier']"
   ]
  },
  {
   "cell_type": "code",
   "execution_count": null,
   "metadata": {},
   "outputs": [],
   "source": [
    "print('Train error =', round(accuracy_score(y_train, knn_best_estimator.predict(X_train)), 4))\n",
    "print('Validation error  =', round(accuracy_score(y_val, knn_best_estimator.predict(X_val)), 4))"
   ]
  },
  {
   "cell_type": "code",
   "execution_count": null,
   "metadata": {},
   "outputs": [],
   "source": [
    "# # # lr_best_estimator\n",
    "# Train error = 0.8062\n",
    "# Validation error  = 0.8101\n",
    "\n",
    "\n",
    "# # knn_best_estimator\n",
    "# Train error = 0.8497\n",
    "# Validation error  = 0.8101"
   ]
  },
  {
   "cell_type": "markdown",
   "metadata": {},
   "source": [
    "###### SVC hyper-parameters Optim"
   ]
  },
  {
   "cell_type": "code",
   "execution_count": null,
   "metadata": {},
   "outputs": [],
   "source": [
    "\n",
    "pipeline = Pipeline([\n",
    "\n",
    "    # Utilisation de FeatureUnion afin de combiner les tickers\n",
    "    ('union', FeatureUnion(\n",
    "        transformer_list=[\n",
    "            \n",
    "            ('basic_features', Pipeline([\n",
    "                ('features', FeatureSelector(key=features)),\n",
    "            ])),\n",
    "\n",
    "        ],\n",
    "\n",
    "\n",
    "        # poids des composants du FeatureUnion\n",
    "        transformer_weights={\n",
    "            'basic_features': 1.0, # 1.0\n",
    "        },\n",
    "    )),\n",
    "    \n",
    "    # etape de prétraitement\n",
    "    ('preProcessingML', None) , # FunctionTransformer()\n",
    "\n",
    "    ('Classifier', SVC(C=1.0, \n",
    "                       kernel='rbf', \n",
    "                       degree=3, \n",
    "                       random_state=random_state)\n",
    "    ),\n",
    "])\n",
    "\n",
    "##########################################################################################################\"\"\n",
    "\n",
    "param_grid_1 = dict(\n",
    "#\n",
    "                       union__basic_features__features__key=[\n",
    "                                                                [\"Age\", \"Fare\", \"Pclass\", \"Sex_male\"],\n",
    "                                                                [\"Age\", \"Fare\", \"Sex_male\" , \"Pclass_2\", \"Pclass_3\"],\n",
    "                                                                [\"Age\", \"SibSp\", \"Fare\", \"Parch\", \"Pclass\", \"Embarked_Q\", \"Embarked_S\", \"Sex_male\"],\n",
    "                                                                [\"Age\", \"SibSp\", \"Fare\", \"Parch\", \"Embarked_Q\", \"Embarked_S\", \"Sex_male\", \"Pclass_2\", \"Pclass_3\"]\n",
    "                                                               ],\n",
    "\n",
    "    \n",
    "    \n",
    "                       preProcessingML = [\n",
    "                                          None,\n",
    "                                         Normalizer(norm='l2'), \n",
    "                                         Normalizer(norm='l1'),\n",
    "                                         MaxAbsScaler(),\n",
    "                                         MinMaxScaler(),\n",
    "                                         RobustScaler(),\n",
    "                                         StandardScaler(with_mean=True)\n",
    "                                         ],\n",
    "    \n",
    "                   Classifier__C = [0.5, 1, 5, 10], # \n",
    "                   Classifier__kernel = ['sigmoid', 'rbf'], #  \n",
    "                )\n",
    "\n",
    "\n",
    "# param_grid_2 = dict(\n",
    "# #\n",
    "#                        union__basic_features__features__key=[\n",
    "#                                                                 [\"Age\", \"Fare\", \"Pclass\", \"Sex_male\"],\n",
    "#                                                                 [\"Age\", \"Fare\", \"Sex_male\" , \"Pclass_2\", \"Pclass_3\"],\n",
    "#                                                                 [\"Age\", \"SibSp\", \"Fare\", \"Parch\", \"Pclass\", \"Embarked_Q\", \"Embarked_S\", \"Sex_male\"],\n",
    "#                                                                 [\"Age\", \"SibSp\", \"Fare\", \"Parch\", \"Embarked_Q\", \"Embarked_S\", \"Sex_male\", \"Pclass_2\", \"Pclass_3\"]\n",
    "#                                                                ],\n",
    "    \n",
    "    \n",
    "#                        preProcessingML = [\n",
    "#                                           None,\n",
    "#                                          Normalizer(norm='l2'), \n",
    "#                                          Normalizer(norm='l1'),\n",
    "#                                          MaxAbsScaler(),\n",
    "#                                          MinMaxScaler(),\n",
    "#                                          RobustScaler(),\n",
    "#                                          StandardScaler(with_mean=True)\n",
    "#                                          ],\n",
    "    \n",
    "#                    Classifier__C = [0.5, 1, 5, 10], # \n",
    "#                    Classifier__kernel = ['poly'], #  \n",
    "#                    Classifier__degree = [2], #  \n",
    "#                 )"
   ]
  },
  {
   "cell_type": "code",
   "execution_count": null,
   "metadata": {},
   "outputs": [],
   "source": [
    "n_splits = 5\n",
    "\n",
    "cv = StratifiedKFold(n_splits=n_splits, random_state=random_state, shuffle=True)\n",
    "\n",
    "# grid_search = RandomizedSearchCV(pipeline, param_distributions=param_grid, n_iter=200, verbose=1, scoring =rmsle_scorer, n_jobs=-1, cv=cv, random_state = random_state)\n",
    "grid_search = GridSearchCV(pipeline, \n",
    "                           param_grid=[param_grid_1], \n",
    "                           verbose=1, \n",
    "                           scoring =\"accuracy\", \n",
    "                           n_jobs=-1, \n",
    "                           cv=cv)\n",
    "\n",
    "grid_search.fit(X_train, y_train)\n",
    "svc_best_estimator = grid_search.best_estimator_"
   ]
  },
  {
   "cell_type": "code",
   "execution_count": null,
   "metadata": {},
   "outputs": [],
   "source": [
    "svc_best_estimator.named_steps['union']"
   ]
  },
  {
   "cell_type": "code",
   "execution_count": null,
   "metadata": {},
   "outputs": [],
   "source": [
    "svc_best_estimator.named_steps['preProcessingML']"
   ]
  },
  {
   "cell_type": "code",
   "execution_count": null,
   "metadata": {},
   "outputs": [],
   "source": [
    "svc_best_estimator.named_steps['Classifier']"
   ]
  },
  {
   "cell_type": "code",
   "execution_count": null,
   "metadata": {},
   "outputs": [],
   "source": [
    "print('Train error =', round(accuracy_score(y_train, svc_best_estimator.predict(X_train)), 4))\n",
    "print('Validation error  =', round(accuracy_score(y_val, svc_best_estimator.predict(X_val)), 4))"
   ]
  },
  {
   "cell_type": "code",
   "execution_count": null,
   "metadata": {},
   "outputs": [],
   "source": [
    "# # # lr_best_estimator\n",
    "# Train error = 0.8062\n",
    "# Validation error  = 0.8101\n",
    "\n",
    "\n",
    "# # knn_best_estimator\n",
    "# Train error = 0.8497\n",
    "# Validation error  = 0.8101\n",
    "\n",
    "# svc_best_estimator\n",
    "# Train error = 0.8427\n",
    "# Validation error  = 0.8101"
   ]
  },
  {
   "cell_type": "markdown",
   "metadata": {},
   "source": [
    "###### DecisionTreeClassifier hyper-parameters Optim"
   ]
  },
  {
   "cell_type": "code",
   "execution_count": null,
   "metadata": {},
   "outputs": [],
   "source": [
    "\n",
    "pipeline = Pipeline([\n",
    "\n",
    "    # Utilisation de FeatureUnion afin de combiner les tickers\n",
    "    ('union', FeatureUnion(\n",
    "        transformer_list=[\n",
    "            \n",
    "            ('basic_features', Pipeline([\n",
    "                ('features', FeatureSelector(key=features)),\n",
    "            ])),\n",
    "        ],\n",
    "\n",
    "\n",
    "        # poids des composants du FeatureUnion\n",
    "        transformer_weights={\n",
    "            'basic_features': 1.0, # 1.0\n",
    "        },\n",
    "    )),\n",
    "    \n",
    "    # etape de prétraitement\n",
    "    ('preProcessingML',StandardScaler(with_mean=True)) , # FunctionTransformer()\n",
    "\n",
    "    ('Classifier', DecisionTreeClassifier(criterion='gini', \n",
    "                                          max_depth=None, \n",
    "                                          min_samples_split=2)\n",
    "    ),\n",
    "])\n",
    "\n",
    "##########################################################################################################\"\"\n",
    "\n",
    "param_grid_1 = dict(\n",
    "#\n",
    "                       union__basic_features__features__key=[\n",
    "                                                                [\"Age\", \"Fare\", \"Pclass\", \"Sex_male\"],\n",
    "                                                                [\"Age\", \"Fare\", \"Sex_male\" , \"Pclass_2\", \"Pclass_3\"],\n",
    "                                                                [\"Age\", \"SibSp\", \"Fare\", \"Parch\", \"Pclass\", \"Embarked_Q\", \"Embarked_S\", \"Sex_male\"],\n",
    "                                                                [\"Age\", \"SibSp\", \"Fare\", \"Parch\", \"Embarked_Q\", \"Embarked_S\", \"Sex_male\", \"Pclass_2\", \"Pclass_3\"]\n",
    "                                                               ],\n",
    "    \n",
    "    \n",
    "                       preProcessingML = [\n",
    "                                          None,\n",
    "                                         Normalizer(norm='l2'), \n",
    "                                         Normalizer(norm='l1'),\n",
    "                                         MaxAbsScaler(),\n",
    "                                         MinMaxScaler(),\n",
    "                                         RobustScaler(),\n",
    "                                         StandardScaler(with_mean=True)\n",
    "                                         ],\n",
    "    \n",
    "                   Classifier__criterion = [\"gini\", \"entropy\"], # \n",
    "                   Classifier__max_depth = [None, 3, 4, 5], #\n",
    "                   Classifier__min_samples_split = [2, 5, 7], #  \n",
    "                )"
   ]
  },
  {
   "cell_type": "code",
   "execution_count": null,
   "metadata": {},
   "outputs": [],
   "source": [
    "n_splits = 5\n",
    "cv = StratifiedKFold(n_splits=n_splits, random_state=random_state, shuffle=True)\n",
    "\n",
    "# grid_search = RandomizedSearchCV(pipeline, param_distributions=param_grid, n_iter=200, verbose=1, scoring =rmsle_scorer, n_jobs=-1, cv=cv, random_state = random_state)\n",
    "grid_search = GridSearchCV(pipeline, \n",
    "                           param_grid=[param_grid_1], \n",
    "                           verbose=1, \n",
    "                           scoring =\"accuracy\", \n",
    "                           n_jobs=-1, \n",
    "                           cv=cv)\n",
    "\n",
    "grid_search.fit(X_train, y_train)\n",
    "dt_best_estimator = grid_search.best_estimator_"
   ]
  },
  {
   "cell_type": "code",
   "execution_count": null,
   "metadata": {},
   "outputs": [],
   "source": [
    "dt_best_estimator.named_steps['union']"
   ]
  },
  {
   "cell_type": "code",
   "execution_count": null,
   "metadata": {},
   "outputs": [],
   "source": [
    "dt_best_estimator.named_steps['preProcessingML']"
   ]
  },
  {
   "cell_type": "code",
   "execution_count": null,
   "metadata": {},
   "outputs": [],
   "source": [
    "dt_best_estimator.named_steps['Classifier']"
   ]
  },
  {
   "cell_type": "code",
   "execution_count": null,
   "metadata": {},
   "outputs": [],
   "source": [
    "print('Train error =', round(accuracy_score(y_train, dt_best_estimator.predict(X_train)), 4))\n",
    "print('Validation error  =', round(accuracy_score(y_val, dt_best_estimator.predict(X_val)), 4))"
   ]
  },
  {
   "cell_type": "code",
   "execution_count": null,
   "metadata": {},
   "outputs": [],
   "source": [
    "# # # lr_best_estimator\n",
    "# Train error = 0.8062\n",
    "# Validation error  = 0.8101\n",
    "\n",
    "\n",
    "# # knn_best_estimator\n",
    "# Train error = 0.8497\n",
    "# Validation error  = 0.8101\n",
    "\n",
    "# svc_best_estimator\n",
    "# Train error = 0.8427\n",
    "# Validation error  = 0.8101\n",
    "\n",
    "# dt_best_estimator\n",
    "# Train error = 0.8343\n",
    "# Validation error  = 0.8156"
   ]
  },
  {
   "cell_type": "markdown",
   "metadata": {},
   "source": [
    "###### MLPClassifier hyper-parameters Optim"
   ]
  },
  {
   "cell_type": "code",
   "execution_count": null,
   "metadata": {},
   "outputs": [],
   "source": [
    "\n",
    "pipeline = Pipeline([\n",
    "\n",
    "    # Utilisation de FeatureUnion afin de combiner les tickers\n",
    "    ('union', FeatureUnion(\n",
    "        transformer_list=[\n",
    "            \n",
    "            ('basic_features', Pipeline([\n",
    "                ('features', FeatureSelector(key=features)),\n",
    "            ])),\n",
    "\n",
    "        ],\n",
    "\n",
    "\n",
    "        # poids des composants du FeatureUnion\n",
    "        transformer_weights={\n",
    "            'basic_features': 1.0, # 1.0\n",
    "        },\n",
    "    )),\n",
    "    \n",
    "    # etape de prétraitement\n",
    "    ('preProcessingML',StandardScaler(with_mean=True)) , # FunctionTransformer()\n",
    "\n",
    "    ('Classifier', MLPClassifier(hidden_layer_sizes=(100, ), \n",
    "                                 activation='relu', \n",
    "                                 solver='adam', \n",
    "                                 alpha=0.0001,\n",
    "                                 batch_size='auto', \n",
    "                                 learning_rate='constant', \n",
    "                                 learning_rate_init=0.001, \n",
    "                                 max_iter=400, \n",
    "                                 random_state=random_state)\n",
    "    ),\n",
    "])\n",
    "\n",
    "##########################################################################################################\"\"\n",
    "\n",
    "param_grid_1 = dict(\n",
    "#\n",
    "                       union__basic_features__features__key=[\n",
    "                                                                [\"Age\", \"Fare\", \"Pclass\", \"Sex_male\"],\n",
    "                                                                [\"Age\", \"Fare\", \"Sex_male\" , \"Pclass_2\", \"Pclass_3\"],\n",
    "                                                                [\"Age\", \"SibSp\", \"Fare\", \"Parch\", \"Pclass\", \"Embarked_Q\", \"Embarked_S\", \"Sex_male\"],\n",
    "                                                                [\"Age\", \"SibSp\", \"Fare\", \"Parch\", \"Embarked_Q\", \"Embarked_S\", \"Sex_male\", \"Pclass_2\", \"Pclass_3\"]\n",
    "                                                               ],\n",
    "    \n",
    "    \n",
    "                       preProcessingML = [\n",
    "                                          None,\n",
    "                                         Normalizer(norm='l2'), \n",
    "                                         Normalizer(norm='l1'),\n",
    "                                         MaxAbsScaler(),\n",
    "                                         MinMaxScaler(),\n",
    "                                         RobustScaler(),\n",
    "                                         StandardScaler(with_mean=True)\n",
    "                                         ],\n",
    "    \n",
    "                   Classifier__hidden_layer_sizes = [(100, ), (100, 50), (100, 25), (100, 12)], # \n",
    "#                    Classifier__alpha = [0.0001], #   \n",
    "#                    Classifier__batch_size = [\"auto\", 32, 64, 128], #   \n",
    "#                    Classifier__learning_rate = ['constant', 'invscaling', 'adaptive'], #   \n",
    "#                    Classifier__learning_rate_init = [0.0001, 0.001, 0.01], #  \n",
    "                )"
   ]
  },
  {
   "cell_type": "code",
   "execution_count": null,
   "metadata": {},
   "outputs": [],
   "source": [
    "n_splits = 5\n",
    "cv = StratifiedKFold(n_splits=n_splits, random_state=random_state, shuffle=True)\n",
    "\n",
    "# grid_search = RandomizedSearchCV(pipeline, param_distributions=param_grid, n_iter=200, verbose=1, scoring =rmsle_scorer, n_jobs=-1, cv=cv, random_state = random_state)\n",
    "grid_search = GridSearchCV(pipeline, \n",
    "                           param_grid=[param_grid_1], \n",
    "                           verbose=1, \n",
    "                           scoring =\"accuracy\", \n",
    "                           n_jobs=-1, \n",
    "                           cv=cv)\n",
    "\n",
    "grid_search.fit(X_train, y_train)\n",
    "mlp_best_estimator = grid_search.best_estimator_"
   ]
  },
  {
   "cell_type": "code",
   "execution_count": null,
   "metadata": {},
   "outputs": [],
   "source": [
    "mlp_best_estimator.named_steps['union']"
   ]
  },
  {
   "cell_type": "code",
   "execution_count": null,
   "metadata": {},
   "outputs": [],
   "source": [
    "mlp_best_estimator.named_steps['preProcessingML']"
   ]
  },
  {
   "cell_type": "code",
   "execution_count": null,
   "metadata": {},
   "outputs": [],
   "source": [
    "mlp_best_estimator.named_steps['Classifier']"
   ]
  },
  {
   "cell_type": "code",
   "execution_count": null,
   "metadata": {},
   "outputs": [],
   "source": [
    "print('Train error =', round(accuracy_score(y_train, mlp_best_estimator.predict(X_train)), 4))\n",
    "print('Validation error  =', round(accuracy_score(y_val, mlp_best_estimator.predict(X_val)), 4))"
   ]
  },
  {
   "cell_type": "markdown",
   "metadata": {},
   "source": [
    "###### Résumé des performances\n",
    "\n",
    "<table>\n",
    "    <thead>\n",
    "        <tr>\n",
    "            <th>Algo</th>\n",
    "            <th align=\"center\">Train</th>\n",
    "            <th align=\"right\">Validation</th>\n",
    "        </tr>\n",
    "    </thead>\n",
    "    <tbody>\n",
    "        <tr>\n",
    "            <td>DecisionTreeClassifier</td>\n",
    "            <td align=\"center\">0.8343</td>\n",
    "            <td align=\"right\">0.8156</td>\n",
    "        </tr>\n",
    "        <tr>\n",
    "            <td>SVC</td>\n",
    "            <td align=\"center\">0.8427</td>\n",
    "            <td align=\"right\">0.8101</td>\n",
    "        </tr>\n",
    "        <tr>\n",
    "            <td>MLPClassifier</td>\n",
    "            <td align=\"center\">0.8357</td>\n",
    "            <td align=\"right\">0.8045</td>\n",
    "        </tr>\n",
    "        <tr>\n",
    "            <td>KNeighborsClassifier</td>\n",
    "            <td align=\"center\">0.8497</td>\n",
    "            <td align=\"right\">0.8101</td>\n",
    "        </tr>\n",
    "        <tr>\n",
    "            <td>LogisticRegression</td>\n",
    "            <td align=\"center\">0.8062</td>\n",
    "            <td align=\"right\">0.8101</td>\n",
    "        </tr>\n",
    "    </tbody>\n",
    "</table>\n"
   ]
  },
  {
   "cell_type": "code",
   "execution_count": null,
   "metadata": {},
   "outputs": [],
   "source": []
  },
  {
   "cell_type": "markdown",
   "metadata": {},
   "source": [
    "### 3. Analyse  obtained results in the report and provide a solution to improve the results."
   ]
  },
  {
   "cell_type": "markdown",
   "metadata": {},
   "source": [
    "Afin d'améliorer les résultats, nous allons:\n",
    "\n",
    "- (1) ajouter des Features à notre pipeline; on aura donc:\n",
    "\n",
    "    - Features engineering\n",
    "            - Interquartile Range (IQR) features\n",
    "            - Binary Feeatures\n",
    "    - Prétraitement (Scaling, etc...)\n",
    "    - Prédiction\n",
    "\n",
    "- (2) Ensuite nous allonc combiner les meilleurs modèles entre eux"
   ]
  },
  {
   "cell_type": "markdown",
   "metadata": {},
   "source": [
    "Nous allons créer de nouvelles variables liées aux deux variables les plus importantes: Fare et Age"
   ]
  },
  {
   "cell_type": "code",
   "execution_count": null,
   "metadata": {},
   "outputs": [],
   "source": [
    "data_train[['Fare']].describe()"
   ]
  },
  {
   "cell_type": "code",
   "execution_count": null,
   "metadata": {},
   "outputs": [],
   "source": [
    "data_train['Fare<Q1'] =  (data_train['Fare'] < 7.910400).astype(int)\n",
    "data_test['Fare<Q1'] =  (data_test['Fare'] < 7.910400).astype(int)\n",
    "\n",
    "data_train['Fare>Q2'] =  (data_train['Fare'] > 31).astype(int)\n",
    "data_test['Fare>Q2'] =  (data_test['Fare'] > 31).astype(int)\n",
    "\n",
    "data_train['Fare_between_Q1_Q2'] =  ((data_train['Fare'] >= 7.910400) & (data_train['Fare'] <= 31)).astype(int)\n",
    "data_test['Fare_between_Q1_Q2'] =  ((data_test['Fare'] >= 7.910400) & (data_test['Fare'] <= 31)).astype(int)\n",
    "\n",
    "data_train['Fare>median'] =  (data_train['Fare'] > 14.45).astype(int)\n",
    "data_test['Fare>median'] =  (data_test['Fare'] > 14.45).astype(int)"
   ]
  },
  {
   "cell_type": "code",
   "execution_count": null,
   "metadata": {},
   "outputs": [],
   "source": [
    "data_train.sample(5)"
   ]
  },
  {
   "cell_type": "code",
   "execution_count": null,
   "metadata": {},
   "outputs": [],
   "source": [
    "data_train[['Age']].describe()"
   ]
  },
  {
   "cell_type": "code",
   "execution_count": null,
   "metadata": {},
   "outputs": [],
   "source": [
    "data_train['Age<15'] =  (data_train['Age'] < 15).astype(int)\n",
    "data_test['Age<15'] =  (data_test['Age'] < 15).astype(int)\n",
    "\n",
    "\n",
    "data_train['Age_between_15_30'] =  ((data_train['Age'] >= 15) & (data_train['Age'] <= 30)).astype(int)\n",
    "data_test['Age_between_15_30'] =  ((data_test['Age'] >= 15) & (data_test['Age'] <= 30)).astype(int)\n",
    "\n",
    "data_train['Age_between_30_45'] =  ((data_train['Age'] >= 30) & (data_train['Age'] <= 45)).astype(int)\n",
    "data_test['Age_between_30_45'] =  ((data_test['Age'] >= 30) & (data_test['Age'] <= 45)).astype(int)\n",
    "\n",
    "\n",
    "data_train['Age_between_45_60'] =  ((data_train['Age'] >= 45) & (data_train['Age'] <= 60)).astype(int)\n",
    "data_test['Age_between_45_60'] =  ((data_test['Age'] >= 45) & (data_test['Age'] <= 60)).astype(int)\n",
    "\n",
    "data_train['Age>60'] =  (data_train['Age'] > 60).astype(int)\n",
    "data_test['Age>60'] =  (data_test['Age'] > 60).astype(int)\n"
   ]
  },
  {
   "cell_type": "code",
   "execution_count": null,
   "metadata": {},
   "outputs": [],
   "source": [
    "data_train.sample(5)"
   ]
  },
  {
   "cell_type": "markdown",
   "metadata": {},
   "source": [
    "###### Redéfinissons X_train, X_val, y_train, y_val"
   ]
  },
  {
   "cell_type": "code",
   "execution_count": null,
   "metadata": {},
   "outputs": [],
   "source": [
    "features = list(data_test.columns)\n",
    "target = 'Survived'\n",
    "\n",
    "X_train, X_val, y_train, y_val = train_test_split(data_train[features], \n",
    "                                                    data_train[target], \n",
    "                                                    test_size=0.2, \n",
    "                                                    random_state=random_state,\n",
    "                                                    stratify = data_train[target] \n",
    "                                                   )\n",
    "\n",
    "features_1 = [\"Age\", \"SibSp\", \"Fare\", \"Parch\", \"Pclass\", \"Embarked_Q\", \"Embarked_S\", \"Sex_male\"]+features[-9:]\n",
    "features_2 = [\"Age\", \"SibSp\", \"Fare\", \"Parch\", \"Embarked_Q\", \"Embarked_S\", \"Sex_male\", \"Pclass_2\", \"Pclass_3\"]+features[-9:]\n"
   ]
  },
  {
   "cell_type": "code",
   "execution_count": null,
   "metadata": {},
   "outputs": [],
   "source": [
    "features_1"
   ]
  },
  {
   "cell_type": "code",
   "execution_count": null,
   "metadata": {},
   "outputs": [],
   "source": [
    "features_2"
   ]
  },
  {
   "cell_type": "markdown",
   "metadata": {},
   "source": [
    "###### LogisticRegression hyper-parameters Optim"
   ]
  },
  {
   "cell_type": "code",
   "execution_count": null,
   "metadata": {},
   "outputs": [],
   "source": [
    "\n",
    "pipeline = Pipeline([\n",
    "\n",
    "    # Utilisation de FeatureUnion afin de combiner les tickers\n",
    "    ('union', FeatureUnion(\n",
    "        transformer_list=[\n",
    "            \n",
    "            ('basic_features', Pipeline([\n",
    "                ('features', FeatureSelector(key=[\"Age\", \"Fare\", \"Pclass\", \"Sex_male\"])),\n",
    "            ])),\n",
    "\n",
    "        ],\n",
    "\n",
    "        # poids des composants du FeatureUnion\n",
    "        transformer_weights={\n",
    "            'basic_features': 1.0, # 1.0\n",
    "        },\n",
    "    )),\n",
    "    \n",
    "    # etape de prétraitement\n",
    "    ('preProcessingML',StandardScaler(with_mean=True)) , # FunctionTransformer()\n",
    "\n",
    "    ('Classifier', LogisticRegression(penalty='l2', \n",
    "                                      tol=0.0001, \n",
    "                                      C=1.0, \n",
    "                                      fit_intercept=True, \n",
    "                                      random_state=random_state,\n",
    "                                      solver='lbfgs',\n",
    "                                      max_iter=100, \n",
    "                                      n_jobs=-1, \n",
    "#                                       l1_ratio=None\n",
    "                                     )\n",
    "    ),\n",
    "])\n",
    "##########################################################################################################\"\"\n",
    "\n",
    "param_grid_1 = dict(\n",
    "#\n",
    "                       union__basic_features__features__key=[\n",
    "                                                                features_1,\n",
    "                                                                features_2,\n",
    "                                                                [\"Age\", \"Fare\", \"Pclass\", \"Sex_male\"],\n",
    "                                                                [\"Age\", \"Fare\", \"Sex_male\", \"Pclass_2\", \"Pclass_3\"],\n",
    "                                                                [\"Age\", \"SibSp\", \"Fare\", \"Parch\", \"Pclass\", \"Embarked_Q\", \"Embarked_S\", \"Sex_male\"],\n",
    "                                                                [\"Age\", \"SibSp\", \"Fare\", \"Parch\", \"Embarked_Q\", \"Embarked_S\", \"Sex_male\", \"Pclass_2\", \"Pclass_3\"]\n",
    "                                                               ],\n",
    "    \n",
    "    \n",
    "                       preProcessingML = [\n",
    "                                          None,\n",
    "                                         Normalizer(norm='l2'), \n",
    "                                         Normalizer(norm='l1'),\n",
    "                                         MaxAbsScaler(),\n",
    "                                         MinMaxScaler(),\n",
    "                                         RobustScaler(),\n",
    "                                         StandardScaler(with_mean=True)\n",
    "                                         ],\n",
    "    \n",
    "                   Classifier__penalty = ['elasticnet'], # \n",
    "                   Classifier__solver = ['saga'], #  \n",
    "                   Classifier__tol = [0.001, 0.0001, 0.00001], #  \n",
    "                   Classifier__C = [0.7, 1.0, 1.5], #  \n",
    "#                    Classifier__l1_ratio = [0, 0.3, 0.5, 0.7, 1], #\n",
    "                )\n",
    "\n",
    "\n",
    "\n",
    "param_grid_2 = dict(\n",
    "#\n",
    "                       union__basic_features__features__key=[\n",
    "                                                                features_1,\n",
    "                                                                features_2,\n",
    "                                                                [\"Age\", \"Fare\", \"Pclass\", \"Sex_male\"],\n",
    "                                                                [\"Age\", \"Fare\", \"Sex_male\", \"Pclass_2\", \"Pclass_3\"],\n",
    "                                                                [\"Age\", \"SibSp\", \"Fare\", \"Parch\", \"Pclass\", \"Embarked_Q\", \"Embarked_S\", \"Sex_male\"],\n",
    "                                                                [\"Age\", \"SibSp\", \"Fare\", \"Parch\", \"Embarked_Q\", \"Embarked_S\", \"Sex_male\", \"Pclass_2\", \"Pclass_3\"]\n",
    "                                                               ],\n",
    "    \n",
    "                       preProcessingML = [\n",
    "                                          None,\n",
    "                                         Normalizer(norm='l2'), \n",
    "                                         Normalizer(norm='l1'),\n",
    "                                         MaxAbsScaler(),\n",
    "                                         MinMaxScaler(),\n",
    "                                         RobustScaler(),\n",
    "                                         StandardScaler(with_mean=True)\n",
    "                                         ],\n",
    "    \n",
    "                   Classifier__penalty = ['l2'], # \n",
    "                   Classifier__solver = ['lbfgs'], #  \n",
    "                   Classifier__tol = [0.001, 0.0001, 0.00001], #  \n",
    "                   Classifier__C = [0.7, 1.0, 1.5, 5, 10], \n",
    "                )"
   ]
  },
  {
   "cell_type": "code",
   "execution_count": null,
   "metadata": {},
   "outputs": [],
   "source": [
    "n_splits = 5\n",
    "cv = StratifiedKFold(n_splits=n_splits, random_state=random_state, shuffle=True)\n",
    "\n",
    "# grid_search = RandomizedSearchCV(pipeline, param_distributions=param_grid, n_iter=200, verbose=1, scoring =rmsle_scorer, n_jobs=-1, cv=cv, random_state = random_state)\n",
    "grid_search = GridSearchCV(pipeline, \n",
    "                           param_grid=[param_grid_1, param_grid_2], \n",
    "                           verbose=1, \n",
    "                           scoring =\"accuracy\", \n",
    "                           n_jobs=-1, \n",
    "                           cv=cv)\n",
    "\n",
    "grid_search.fit(X_train, y_train)\n",
    "lr_best_estimator = grid_search.best_estimator_"
   ]
  },
  {
   "cell_type": "code",
   "execution_count": null,
   "metadata": {},
   "outputs": [],
   "source": [
    "print('Train error =', round(accuracy_score(y_train, lr_best_estimator.predict(X_train)), 4))\n",
    "print('Validation error  =', round(accuracy_score(y_val, lr_best_estimator.predict(X_val)), 4))"
   ]
  },
  {
   "cell_type": "markdown",
   "metadata": {},
   "source": [
    "###### KNeighborsClassifier hyper-parameters Optim"
   ]
  },
  {
   "cell_type": "code",
   "execution_count": null,
   "metadata": {},
   "outputs": [],
   "source": [
    "\n",
    "pipeline = Pipeline([\n",
    "\n",
    "    # Utilisation de FeatureUnion afin de combiner les tickers\n",
    "    ('union', FeatureUnion(\n",
    "        transformer_list=[\n",
    "            \n",
    "            ('basic_features', Pipeline([\n",
    "                ('features', FeatureSelector(key=[\"Age\", \"Fare\", \"Pclass\", \"Sex_male\"])),\n",
    "            ])),\n",
    "        ],\n",
    "\n",
    "\n",
    "        # poids des composants du FeatureUnion\n",
    "        transformer_weights={\n",
    "            'basic_features': 1.0, # 1.0\n",
    "        },\n",
    "    )),\n",
    "    \n",
    "    # etape de prétraitement\n",
    "    ('preProcessingML',StandardScaler(with_mean=True)) , # FunctionTransformer()\n",
    "\n",
    "    ('Classifier', KNeighborsClassifier(n_neighbors=5, \n",
    "                                        weights='uniform', \n",
    "                                        p=2,\n",
    "                                        n_jobs=-1)\n",
    "    ),\n",
    "])\n",
    "\n",
    "##########################################################################################################\"\"\n",
    "\n",
    "param_grid_1 = dict(\n",
    "#\n",
    "                       union__basic_features__features__key=[\n",
    "                                                                features_1,\n",
    "                                                                features_2,\n",
    "                                                                [\"Age\", \"Fare\", \"Pclass\", \"Sex_male\"],\n",
    "                                                                [\"Age\", \"Fare\", \"Sex_male\", \"Pclass_2\", \"Pclass_3\"],\n",
    "                                                                [\"Age\", \"SibSp\", \"Fare\", \"Parch\", \"Pclass\", \"Embarked_Q\", \"Embarked_S\", \"Sex_male\"],\n",
    "                                                                [\"Age\", \"SibSp\", \"Fare\", \"Parch\", \"Embarked_Q\", \"Embarked_S\", \"Sex_male\", \"Pclass_2\", \"Pclass_3\"]\n",
    "                                                               ],\n",
    "\n",
    "    \n",
    "    \n",
    "                       preProcessingML = [\n",
    "                                          None,\n",
    "                                         Normalizer(norm='l2'), \n",
    "                                         Normalizer(norm='l1'),\n",
    "                                         MaxAbsScaler(),\n",
    "                                         MinMaxScaler(),\n",
    "                                         RobustScaler(),\n",
    "                                         StandardScaler(with_mean=True)\n",
    "                                         ],\n",
    "    \n",
    "                   Classifier__n_neighbors = [3, 4, 5, 6, 7, 8, 9, 10, 11], # \n",
    "                   Classifier__weights = ['uniform', 'distance'], #  \n",
    "                   Classifier__p = [1, 2], #  \n",
    "                )\n"
   ]
  },
  {
   "cell_type": "code",
   "execution_count": null,
   "metadata": {},
   "outputs": [],
   "source": [
    "n_splits = 5\n",
    "cv = StratifiedKFold(n_splits=n_splits, random_state=random_state, shuffle=True)\n",
    "\n",
    "# grid_search = RandomizedSearchCV(pipeline, param_distributions=param_grid, n_iter=200, verbose=1, scoring =rmsle_scorer, n_jobs=-1, cv=cv, random_state = random_state)\n",
    "grid_search = GridSearchCV(pipeline, \n",
    "                           param_grid=[param_grid_1], \n",
    "                           verbose=1, \n",
    "                           scoring =\"accuracy\", \n",
    "                           n_jobs=-1, \n",
    "                           cv=cv)\n",
    "\n",
    "grid_search.fit(X_train, y_train)\n",
    "knn_best_estimator = grid_search.best_estimator_"
   ]
  },
  {
   "cell_type": "code",
   "execution_count": null,
   "metadata": {},
   "outputs": [],
   "source": [
    "print('Train error =', round(accuracy_score(y_train, knn_best_estimator.predict(X_train)), 4))\n",
    "print('Validation error  =', round(accuracy_score(y_val, knn_best_estimator.predict(X_val)), 4))"
   ]
  },
  {
   "cell_type": "markdown",
   "metadata": {},
   "source": [
    "###### SVC hyper-parameters Optim"
   ]
  },
  {
   "cell_type": "code",
   "execution_count": null,
   "metadata": {},
   "outputs": [],
   "source": [
    "\n",
    "pipeline = Pipeline([\n",
    "\n",
    "    # Utilisation de FeatureUnion afin de combiner les tickers\n",
    "    ('union', FeatureUnion(\n",
    "        transformer_list=[\n",
    "            \n",
    "            ('basic_features', Pipeline([\n",
    "                ('features', FeatureSelector(key=features)),\n",
    "            ])),\n",
    "\n",
    "        ],\n",
    "\n",
    "\n",
    "        # poids des composants du FeatureUnion\n",
    "        transformer_weights={\n",
    "            'basic_features': 1.0, # 1.0\n",
    "        },\n",
    "    )),\n",
    "    \n",
    "    # etape de prétraitement\n",
    "    ('preProcessingML', None) , # FunctionTransformer()\n",
    "\n",
    "    ('Classifier', SVC(C=1.0, \n",
    "                       kernel='rbf', \n",
    "                       degree=3, \n",
    "                       probability=True,\n",
    "                       random_state=random_state)\n",
    "    ),\n",
    "])\n",
    "\n",
    "##########################################################################################################\"\"\n",
    "\n",
    "param_grid_1 = dict(\n",
    "#\n",
    "                       union__basic_features__features__key=[\n",
    "                                                                features_1,\n",
    "                                                                features_2,\n",
    "                                                                [\"Age\", \"Fare\", \"Pclass\", \"Sex_male\"],\n",
    "                                                                [\"Age\", \"Fare\", \"Sex_male\", \"Pclass_2\", \"Pclass_3\"],\n",
    "                                                                [\"Age\", \"SibSp\", \"Fare\", \"Parch\", \"Pclass\", \"Embarked_Q\", \"Embarked_S\", \"Sex_male\"],\n",
    "                                                                [\"Age\", \"SibSp\", \"Fare\", \"Parch\", \"Embarked_Q\", \"Embarked_S\", \"Sex_male\", \"Pclass_2\", \"Pclass_3\"]\n",
    "                                                               ],\n",
    "\n",
    "    \n",
    "    \n",
    "                       preProcessingML = [\n",
    "                                          None,\n",
    "                                         Normalizer(norm='l2'), \n",
    "                                         Normalizer(norm='l1'),\n",
    "                                         MaxAbsScaler(),\n",
    "                                         MinMaxScaler(),\n",
    "                                         RobustScaler(),\n",
    "                                         StandardScaler(with_mean=True)\n",
    "                                         ],\n",
    "    \n",
    "                   Classifier__C = [0.5, 1, 5, 10], # \n",
    "                   Classifier__kernel = ['sigmoid', 'rbf'], #  \n",
    "                )\n",
    "\n",
    "\n",
    "# param_grid_2 = dict(\n",
    "# #\n",
    "#                        union__basic_features__features__key=[\n",
    "#                                                                 features_1,\n",
    "#                                                                 features_2,\n",
    "#                                                                 [\"Age\", \"Fare\", \"Pclass\", \"Sex_male\"],\n",
    "#                                                                 [\"Age\", \"Fare\", \"Sex_male\", \"Pclass_2\", \"Pclass_3\"],\n",
    "#                                                                 [\"Age\", \"SibSp\", \"Fare\", \"Parch\", \"Pclass\", \"Embarked_Q\", \"Embarked_S\", \"Sex_male\"],\n",
    "#                                                                 [\"Age\", \"SibSp\", \"Fare\", \"Parch\", \"Embarked_Q\", \"Embarked_S\", \"Sex_male\", \"Pclass_2\", \"Pclass_3\"]\n",
    "#                                                                ],\n",
    "    \n",
    "    \n",
    "#                        preProcessingML = [\n",
    "#                                           None,\n",
    "#                                          Normalizer(norm='l2'), \n",
    "#                                          Normalizer(norm='l1'),\n",
    "#                                          MaxAbsScaler(),\n",
    "#                                          MinMaxScaler(),\n",
    "#                                          RobustScaler(),\n",
    "#                                          StandardScaler(with_mean=True)\n",
    "#                                          ],\n",
    "    \n",
    "#                    Classifier__C = [0.5, 1, 5, 10], # \n",
    "#                    Classifier__kernel = ['poly'], #  \n",
    "#                    Classifier__degree = [2], #  \n",
    "#                 )"
   ]
  },
  {
   "cell_type": "code",
   "execution_count": null,
   "metadata": {},
   "outputs": [],
   "source": [
    "n_splits = 5\n",
    "cv = StratifiedKFold(n_splits=n_splits, random_state=random_state, shuffle=True)\n",
    "\n",
    "# grid_search = RandomizedSearchCV(pipeline, param_distributions=param_grid, n_iter=200, verbose=1, scoring =rmsle_scorer, n_jobs=-1, cv=cv, random_state = random_state)\n",
    "grid_search = GridSearchCV(pipeline, \n",
    "                           param_grid=[param_grid_1], \n",
    "                           verbose=1, \n",
    "                           scoring =\"accuracy\", \n",
    "                           n_jobs=-1, \n",
    "                           cv=cv)\n",
    "\n",
    "grid_search.fit(X_train, y_train)\n",
    "svc_best_estimator = grid_search.best_estimator_\n",
    "\n"
   ]
  },
  {
   "cell_type": "code",
   "execution_count": null,
   "metadata": {},
   "outputs": [],
   "source": [
    "print('Train error =', round(accuracy_score(y_train, svc_best_estimator.predict(X_train)), 4))\n",
    "print('Validation error  =', round(accuracy_score(y_val, svc_best_estimator.predict(X_val)), 4))"
   ]
  },
  {
   "cell_type": "markdown",
   "metadata": {},
   "source": [
    "###### DecisionTreeClassifier hyper-parameters Optim"
   ]
  },
  {
   "cell_type": "code",
   "execution_count": null,
   "metadata": {},
   "outputs": [],
   "source": [
    "\n",
    "pipeline = Pipeline([\n",
    "\n",
    "    # Utilisation de FeatureUnion afin de combiner les tickers\n",
    "    ('union', FeatureUnion(\n",
    "        transformer_list=[\n",
    "            \n",
    "            ('basic_features', Pipeline([\n",
    "                ('features', FeatureSelector(key=features)),\n",
    "            ])),\n",
    "        ],\n",
    "\n",
    "\n",
    "        # poids des composants du FeatureUnion\n",
    "        transformer_weights={\n",
    "            'basic_features': 1.0, # 1.0\n",
    "        },\n",
    "    )),\n",
    "    \n",
    "    # etape de prétraitement\n",
    "    ('preProcessingML',StandardScaler(with_mean=True)) , # FunctionTransformer()\n",
    "\n",
    "    ('Classifier', DecisionTreeClassifier(criterion='gini', \n",
    "                                          max_depth=None, \n",
    "                                          min_samples_split=2)\n",
    "    ),\n",
    "])\n",
    "\n",
    "##########################################################################################################\"\"\n",
    "\n",
    "param_grid_1 = dict(\n",
    "#\n",
    "                       union__basic_features__features__key=[\n",
    "                                                                features_1,\n",
    "                                                                features_2,\n",
    "                                                                [\"Age\", \"Fare\", \"Pclass\", \"Sex_male\"],\n",
    "                                                                [\"Age\", \"Fare\", \"Sex_male\", \"Pclass_2\", \"Pclass_3\"],\n",
    "                                                                [\"Age\", \"SibSp\", \"Fare\", \"Parch\", \"Pclass\", \"Embarked_Q\", \"Embarked_S\", \"Sex_male\"],\n",
    "                                                                [\"Age\", \"SibSp\", \"Fare\", \"Parch\", \"Embarked_Q\", \"Embarked_S\", \"Sex_male\", \"Pclass_2\", \"Pclass_3\"]\n",
    "                                                               ],\n",
    "    \n",
    "    \n",
    "                       preProcessingML = [\n",
    "                                          None,\n",
    "                                         Normalizer(norm='l2'), \n",
    "                                         Normalizer(norm='l1'),\n",
    "                                         MaxAbsScaler(),\n",
    "                                         MinMaxScaler(),\n",
    "                                         RobustScaler(),\n",
    "                                         StandardScaler(with_mean=True)\n",
    "                                         ],\n",
    "    \n",
    "                   Classifier__criterion = [\"gini\", \"entropy\"], # \n",
    "                   Classifier__max_depth = [None, 3, 4, 5], #\n",
    "                   Classifier__min_samples_split = [2, 5, 7], #  \n",
    "                )"
   ]
  },
  {
   "cell_type": "code",
   "execution_count": null,
   "metadata": {},
   "outputs": [],
   "source": [
    "n_splits = 5\n",
    "cv = StratifiedKFold(n_splits=n_splits, random_state=random_state, shuffle=True)\n",
    "\n",
    "# grid_search = RandomizedSearchCV(pipeline, param_distributions=param_grid, n_iter=200, verbose=1, scoring =rmsle_scorer, n_jobs=-1, cv=cv, random_state = random_state)\n",
    "grid_search = GridSearchCV(pipeline, \n",
    "                           param_grid=[param_grid_1], \n",
    "                           verbose=1, \n",
    "                           scoring =\"accuracy\", \n",
    "                           n_jobs=-1, \n",
    "                           cv=cv)\n",
    "\n",
    "grid_search.fit(X_train, y_train)\n",
    "dt_best_estimator = grid_search.best_estimator_"
   ]
  },
  {
   "cell_type": "code",
   "execution_count": null,
   "metadata": {},
   "outputs": [],
   "source": [
    "print('Train error =', round(accuracy_score(y_train, dt_best_estimator.predict(X_train)), 4))\n",
    "print('Validation error  =', round(accuracy_score(y_val, dt_best_estimator.predict(X_val)), 4))"
   ]
  },
  {
   "cell_type": "markdown",
   "metadata": {},
   "source": [
    "###### MLPClassifier hyper-parameters Optim"
   ]
  },
  {
   "cell_type": "code",
   "execution_count": null,
   "metadata": {},
   "outputs": [],
   "source": [
    "\n",
    "pipeline = Pipeline([\n",
    "\n",
    "    # Utilisation de FeatureUnion afin de combiner les tickers\n",
    "    ('union', FeatureUnion(\n",
    "        transformer_list=[\n",
    "            \n",
    "            ('basic_features', Pipeline([\n",
    "                ('features', FeatureSelector(key=features)),\n",
    "            ])),\n",
    "\n",
    "        ],\n",
    "\n",
    "\n",
    "        # poids des composants du FeatureUnion\n",
    "        transformer_weights={\n",
    "            'basic_features': 1.0, # 1.0\n",
    "        },\n",
    "    )),\n",
    "    \n",
    "    # etape de prétraitement\n",
    "    ('preProcessingML',StandardScaler(with_mean=True)) , # FunctionTransformer()\n",
    "\n",
    "    ('Classifier', MLPClassifier(hidden_layer_sizes=(100, ), \n",
    "                                 activation='relu', \n",
    "                                 solver='adam', \n",
    "                                 alpha=0.0001,\n",
    "                                 batch_size='auto', \n",
    "                                 learning_rate='constant', \n",
    "                                 learning_rate_init=0.001, \n",
    "                                 max_iter=400, \n",
    "                                 random_state=random_state)\n",
    "    ),\n",
    "])\n",
    "\n",
    "##########################################################################################################\"\"\n",
    "\n",
    "param_grid_1 = dict(\n",
    "#\n",
    "                       union__basic_features__features__key=[\n",
    "                                                                features_1,\n",
    "                                                                features_2,\n",
    "                                                                [\"Age\", \"Fare\", \"Pclass\", \"Sex_male\"],\n",
    "                                                                [\"Age\", \"Fare\", \"Sex_male\", \"Pclass_2\", \"Pclass_3\"],\n",
    "                                                                [\"Age\", \"SibSp\", \"Fare\", \"Parch\", \"Pclass\", \"Embarked_Q\", \"Embarked_S\", \"Sex_male\"],\n",
    "                                                                [\"Age\", \"SibSp\", \"Fare\", \"Parch\", \"Embarked_Q\", \"Embarked_S\", \"Sex_male\", \"Pclass_2\", \"Pclass_3\"]\n",
    "                                                               ],\n",
    "    \n",
    "    \n",
    "                       preProcessingML = [\n",
    "                                          None,\n",
    "                                         Normalizer(norm='l2'), \n",
    "                                         Normalizer(norm='l1'),\n",
    "                                         MaxAbsScaler(),\n",
    "                                         MinMaxScaler(),\n",
    "                                         RobustScaler(),\n",
    "                                         StandardScaler(with_mean=True)\n",
    "                                         ],\n",
    "    \n",
    "                   Classifier__hidden_layer_sizes = [(100, ), (100, 50), (100, 25), (100, 12)], # \n",
    "#                    Classifier__alpha = [0.0001], #   \n",
    "#                    Classifier__batch_size = [\"auto\", 32, 64, 128], #   \n",
    "#                    Classifier__learning_rate = ['constant', 'invscaling', 'adaptive'], #   \n",
    "#                    Classifier__learning_rate_init = [0.0001, 0.001, 0.01], #  \n",
    "                )"
   ]
  },
  {
   "cell_type": "code",
   "execution_count": null,
   "metadata": {},
   "outputs": [],
   "source": [
    "n_splits = 5\n",
    "cv = StratifiedKFold(n_splits=n_splits, random_state=random_state, shuffle=True)\n",
    "\n",
    "# grid_search = RandomizedSearchCV(pipeline, param_distributions=param_grid, n_iter=200, verbose=1, scoring =rmsle_scorer, n_jobs=-1, cv=cv, random_state = random_state)\n",
    "grid_search = GridSearchCV(pipeline, \n",
    "                           param_grid=[param_grid_1], \n",
    "                           verbose=1, \n",
    "                           scoring =\"accuracy\", \n",
    "                           n_jobs=-1, \n",
    "                           cv=cv)\n",
    "\n",
    "grid_search.fit(X_train, y_train)\n",
    "mlp_best_estimator = grid_search.best_estimator_\n"
   ]
  },
  {
   "cell_type": "code",
   "execution_count": null,
   "metadata": {},
   "outputs": [],
   "source": [
    "\n",
    "print('Train error =', round(accuracy_score(y_train, mlp_best_estimator.predict(X_train)), 4))\n",
    "print('Validation error  =', round(accuracy_score(y_val, mlp_best_estimator.predict(X_val)), 4))"
   ]
  },
  {
   "cell_type": "markdown",
   "metadata": {},
   "source": [
    "###### Résumé des performances\n",
    "\n",
    "<table>\n",
    "    <thead>\n",
    "        <tr>\n",
    "            <th>Algo</th>\n",
    "            <th align=\"center\">Train</th>\n",
    "            <th align=\"right\">Validation</th>\n",
    "            <th align=\"center\">New Train</th>\n",
    "            <th align=\"right\">New Validation</th>\n",
    "        </tr>\n",
    "    </thead>\n",
    "    <tbody>\n",
    "        <tr>\n",
    "            <td>DecisionTreeClassifier</td>\n",
    "            <td align=\"center\">0.8343</td>\n",
    "            <td align=\"right\">0.8156</td>\n",
    "            <td align=\"center\">0.861</td>\n",
    "            <td align=\"right\">0.8045</td>\n",
    "        </tr>\n",
    "        <tr>\n",
    "            <td>SVC</td>\n",
    "            <td align=\"center\">0.8427</td>\n",
    "            <td align=\"right\">0.8101</td>\n",
    "            <td align=\"center\">0.8483</td>\n",
    "            <td align=\"right\">0.8324</td>\n",
    "        </tr>\n",
    "        <tr>\n",
    "            <td>MLPClassifier</td>\n",
    "            <td align=\"center\">0.8357</td>\n",
    "            <td align=\"right\">0.8045</td>\n",
    "            <td align=\"center\">0.875</td>\n",
    "            <td align=\"right\">0.8212</td>\n",
    "        </tr>\n",
    "        <tr>\n",
    "            <td>KNeighborsClassifier</td>\n",
    "            <td align=\"center\">0.8497</td>\n",
    "            <td align=\"right\">0.8101</td>\n",
    "            <td align=\"center\">0.8497</td>\n",
    "            <td align=\"right\">0.8101</td>\n",
    "        </tr>\n",
    "        <tr>\n",
    "            <td>LogisticRegression</td>\n",
    "            <td align=\"center\">0.8062</td>\n",
    "            <td align=\"right\">0.8101</td>\n",
    "            <td align=\"center\">0.8202</td>\n",
    "            <td align=\"right\">0.8101</td>\n",
    "        </tr>\n",
    "    </tbody>\n",
    "</table>\n",
    "\n"
   ]
  },
  {
   "cell_type": "markdown",
   "metadata": {},
   "source": [
    "### VotingClassifier : combinons les meilleurs modèles entre eux"
   ]
  },
  {
   "cell_type": "code",
   "execution_count": null,
   "metadata": {},
   "outputs": [],
   "source": [
    "estim = [\n",
    "        (\"LogisticRegression\", lr_best_estimator),\n",
    "#         (\"DecisionTreeClassifier\", dt_best_estimator),\n",
    "        (\"SVC\", svc_best_estimator),\n",
    "        (\"MLPClassifier\", mlp_best_estimator),\n",
    "#         (\"KNeighborsClassifier\", knn_best_estimator)\n",
    "        ]\n",
    "\n",
    "# create the ensemble model\n",
    "ensemble = VotingClassifier(estimators = estim, \n",
    "                            n_jobs=-1, \n",
    "                            voting='soft', \n",
    "                            weights= [1, 2, 1.5]\n",
    "                           )\n",
    "\n",
    "ensemble = ensemble.fit(X_train, y_train)"
   ]
  },
  {
   "cell_type": "code",
   "execution_count": null,
   "metadata": {},
   "outputs": [],
   "source": [
    "print('Train error =', round(accuracy_score(y_train, ensemble.predict(X_train)), 4))\n",
    "print('Validation error  =', round(accuracy_score(y_val, ensemble.predict(X_val)), 4))"
   ]
  },
  {
   "cell_type": "markdown",
   "metadata": {},
   "source": [
    "Nous observons une amélioration des résultats"
   ]
  },
  {
   "cell_type": "code",
   "execution_count": null,
   "metadata": {},
   "outputs": [],
   "source": [
    "from sklearn.metrics import plot_confusion_matrix\n",
    "from sklearn.metrics import precision_recall_curve\n",
    "from sklearn.preprocessing import label_binarize\n",
    "from sklearn.preprocessing import label_binarize\n",
    "from sklearn.metrics import precision_recall_curve\n",
    "from sklearn.metrics import average_precision_score\n",
    "\n",
    "from matplotlib import cm\n",
    "\n",
    "rcParams['figure.figsize'] = 9, 5\n",
    "\n",
    "disp = plot_confusion_matrix(ensemble, X_val, y_val,\n",
    "                             display_labels=['No', 'Yes'],\n",
    "                             cmap=plt.cm.Blues,\n",
    "#                              normalize='true'\n",
    "                            )"
   ]
  },
  {
   "cell_type": "code",
   "execution_count": null,
   "metadata": {},
   "outputs": [],
   "source": [
    "y_predict = ensemble.predict(X_val)\n",
    "np.sum((y_val==0) & (y_predict==0))"
   ]
  },
  {
   "cell_type": "code",
   "execution_count": null,
   "metadata": {},
   "outputs": [],
   "source": [
    "# Compute Precision-Recall and plot curve\n",
    "precision = dict()\n",
    "recall = dict()\n",
    "average_precision = dict()\n",
    "\n",
    "n_classes = 2\n",
    "\n",
    "y_score = ensemble.predict_proba(X_val)\n",
    "y_val_binarize = (np.array([ (y_val == 0).astype(int), (y_val == 1).astype(int)])).transpose()\n",
    "\n",
    "for i in range(n_classes):\n",
    "    precision[i], recall[i], _ = precision_recall_curve(y_val_binarize[:, i],\n",
    "                                                        y_score[:, i]\n",
    "                                                       )\n",
    "    \n",
    "    average_precision[i] = average_precision_score(y_val_binarize[:, i], \n",
    "                                                   y_score[:, i]\n",
    "                                                  )\n",
    "    \n",
    "# Compute micro-average ROC curve and ROC area\n",
    "precision[\"micro\"], recall[\"micro\"], _ = precision_recall_curve(y_val_binarize.ravel(), y_score.ravel())\n",
    "average_precision[\"micro\"] = average_precision_score(y_val_binarize, \n",
    "                                                     y_score,\n",
    "                                                     average=\"micro\"\n",
    "                                                    )"
   ]
  },
  {
   "cell_type": "code",
   "execution_count": null,
   "metadata": {},
   "outputs": [],
   "source": [
    "# Plot Precision-Recall curve for each class\n",
    "\n",
    "rcParams['figure.figsize'] = 9, 5\n",
    "\n",
    "labels_class = ['No', 'Yes']\n",
    "colors = cm.rainbow(np.linspace(0.0, 1.0, np.unique(y_val).size))\n",
    "\n",
    "plt.clf()\n",
    "plt.plot(recall[\"micro\"], precision[\"micro\"], color='gold',\n",
    "         label='micro-average Precision-recall curve (area = {0:0.2f})'\n",
    "               ''.format(average_precision[\"micro\"]))\n",
    "\n",
    "for i, color in zip(range(n_classes), colors):\n",
    "    plt.plot(recall[i], precision[i], color=color,\n",
    "             label='Precision-recall curve of class {0} (area = {1:0.2f})'\n",
    "                   ''.format(labels_class[i], average_precision[i]))\n",
    "\n",
    "plt.xlim([0.0, 1.0])\n",
    "plt.ylim([0.0, 1.05])\n",
    "plt.xlabel('Recall')\n",
    "plt.ylabel('Precision')\n",
    "plt.title('Precision-Recall curve')\n",
    "plt.legend(loc=\"lower right\")\n",
    "plt.show()"
   ]
  },
  {
   "cell_type": "markdown",
   "metadata": {},
   "source": [
    "## 4. Theoretical details:Give the algorithmically (mathematical) formalism of the method which give the best results. Explain all the parameters of the used method and their impact on the results. "
   ]
  },
  {
   "cell_type": "markdown",
   "metadata": {},
   "source": [
    "Nous avons utiliser 3 modèles: Logistic Regression, SVC et MLP.\n",
    "\n",
    "Nous les avons combiner par la suite.\n",
    "\n",
    "Nous avons fait le choix de présente la Logistic Regression \n",
    "\n",
    "Nous donnons les différentes étapes de l'optimisation effectuée dans le cas de la Logistic Regression.\n",
    "\n",
    "Nous cherchons donc à trouver le paramètre $theta$ de la fonction\n",
    "\n",
    "\\begin{align}\n",
    "h_\\theta(x)\n",
    "\\end{align}\n",
    "\n",
    "Les détails de l'algorithme sont présentés sur les capture ci-dessous.\n",
    "\n",
    "<img src=\"files/Capture.png\">\n",
    "<img src=\"files/Capture1.png\">\n",
    "<img src=\"files/Capture2.png\">\n",
    "<img src=\"files/Capture3.png\">\n"
   ]
  },
  {
   "cell_type": "markdown",
   "metadata": {},
   "source": [
    "## Some comparison: explain the motivation of the used methods, and discuss the obtained results."
   ]
  },
  {
   "cell_type": "markdown",
   "metadata": {},
   "source": [
    "Nous avons fait le choix d'utiliser:\n",
    "\n",
    "- KNeighborsClassifier: De part sa simplicité mais sa grande capacité à apprendre des relations complexes dans les données nous avons fait le choix d'utiliser cet algo\n",
    "- LogisticRegression: car c'est un algorithme indispensable en classification. Ol est communement utilisé comme benchmark et donne des résultats parfois intéressant sur des problèmes avec des relations de linéarité entre les features\n",
    "- DecisionTreeClassifier:  Car c'est l'algorithme de réference en terme d'algorithme ensembliste. Il a peu de paramètres comaparés à d'autres de cette famille (GradientBoosting, etc...) et donne des résultats intéressant sur de nombreux jeu de données\n",
    "- SVC: est également un algorithme incontournable en classification. Etant donné que nous n'avons pas énormément de données SVM, contitue donc une piste à explorer. Grace à ses noyaux variés: RBF, Sigmoid nous pouvons donc apprendre des relations complexe de non-linéarité\n",
    "- MLPClassifier: fin de tester les algorthme de la famille des réseaux de neurone. Il nous permet ainsi d'extraire grace à ses couches cachées des relations complexe, non évidentes et aisni d'apprendre sur ces relations afin d'obtenir des résultats intéressants\n",
    "\n"
   ]
  },
  {
   "cell_type": "code",
   "execution_count": null,
   "metadata": {},
   "outputs": [],
   "source": []
  }
 ],
 "metadata": {
  "kernelspec": {
   "display_name": "Python 3",
   "language": "python",
   "name": "python3"
  },
  "language_info": {
   "codemirror_mode": {
    "name": "ipython",
    "version": 3
   },
   "file_extension": ".py",
   "mimetype": "text/x-python",
   "name": "python",
   "nbconvert_exporter": "python",
   "pygments_lexer": "ipython3",
   "version": "3.7.1"
  }
 },
 "nbformat": 4,
 "nbformat_minor": 2
}
